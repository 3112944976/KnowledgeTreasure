{
 "cells": [
  {
   "cell_type": "markdown",
   "metadata": {},
   "source": [
    "# 包导入"
   ]
  },
  {
   "cell_type": "code",
   "execution_count": 1,
   "metadata": {},
   "outputs": [],
   "source": [
    "import pandas as pd\n",
    "import streamlit as st\n",
    "from PIL import Image\n",
    "\n",
    "from pyecharts import options as opts\n",
    "from pyecharts.charts import Bar\n",
    "from streamlit_echarts import st_pyecharts"
   ]
  },
  {
   "cell_type": "markdown",
   "metadata": {},
   "source": [
    "# 功能组件"
   ]
  },
  {
   "cell_type": "markdown",
   "metadata": {},
   "source": [
    "## 设置网站名称、网页标题及子标题、左边栏"
   ]
  },
  {
   "cell_type": "code",
   "execution_count": null,
   "metadata": {},
   "outputs": [],
   "source": [
    "st.set_page_config(page_title='调查结果')\n",
    "st.header('2020年调查问卷')\n",
    "st.subheader('2020年各部门对生产部的评分情况')\n",
    "st.subheader('Map of all pickups at %s:00' % hour_to_filter)\n",
    "st.sidebar[.其他方法]\n",
    "with st.sidebar:\n",
    "    ..."
   ]
  },
  {
   "cell_type": "markdown",
   "metadata": {},
   "source": [
    "## 交互组件"
   ]
  },
  {
   "cell_type": "markdown",
   "metadata": {},
   "source": [
    "### 用户输入文本及数字"
   ]
  },
  {
   "cell_type": "code",
   "execution_count": null,
   "metadata": {},
   "outputs": [],
   "source": [
    "name_st = st.text_input(\"What is your name?\")\n",
    "number = st.number_input('Insert a number')\n",
    "\n",
    "# 用户输入文本并执行的框：streamlit.text_area(label, value='', height=None, max_chars=None, key=None)\n",
    "# 可以直接做一些文本分析的组件\n",
    "txt = st.text_area('Text to analyze', ''' winter of despair, (...) ''')"
   ]
  },
  {
   "cell_type": "markdown",
   "metadata": {},
   "source": [
    "### 设置按钮点击"
   ]
  },
  {
   "cell_type": "code",
   "execution_count": null,
   "metadata": {},
   "outputs": [],
   "source": [
    "# eg1\n",
    "result = st.button(\"Click Here\")\n",
    "if result:\n",
    "    st.write(\":smile:\")\n",
    "# eg2\n",
    "if st.button('Say hello'):\n",
    "    st.write('Why hello there')\n",
    "else:\n",
    "    st.write('Goodbye')"
   ]
  },
  {
   "cell_type": "markdown",
   "metadata": {},
   "source": [
    "### 单选点击"
   ]
  },
  {
   "cell_type": "code",
   "execution_count": null,
   "metadata": {},
   "outputs": [],
   "source": [
    "# 一个选项\n",
    "show_data = st.checkbox(\"\")\n",
    "# 多个选项\n",
    "streamlit.radio(label, options, index=0, format_func=<class 'str'>, key=None)"
   ]
  },
  {
   "cell_type": "markdown",
   "metadata": {},
   "source": [
    "### 时间载入\n",
    "- 时间载入的两种方式,一般组合时间：日历 + 具体时间\n",
    "\n",
    "- streamlit.date_input(label, value=None, min_value=None, max_value=None, key=None)\n",
    "\n",
    "- streamlit.time_input(label, value=None, key=None)"
   ]
  },
  {
   "cell_type": "code",
   "execution_count": null,
   "metadata": {},
   "outputs": [],
   "source": [
    "import datetime\n",
    "# 1 \n",
    "d = st.date_input(\n",
    "    \"When's your birthday\",\n",
    "    datetime.date(2019, 7, 6))\n",
    "st.write('Your birthday is:', d)\n",
    "\n",
    "# 2 \n",
    "t = st.time_input('Set an alarm for', datetime.time(8, 45))\n",
    "st.write('Alarm is set for', t)"
   ]
  },
  {
   "cell_type": "markdown",
   "metadata": {},
   "source": [
    "### 文件载入 \n",
    "- streamlit.file_uploader(label, type=None, accept_multiple_files=False, key=None)\n",
    "\n",
    "- 演示了单个文件 + 多个文件载入的情况"
   ]
  },
  {
   "cell_type": "code",
   "execution_count": null,
   "metadata": {},
   "outputs": [],
   "source": [
    "# 单文件载入\n",
    "uploaded_file = st.file_uploader(\"Choose a file... csv\")\n",
    "if uploaded_file is not None:\n",
    "     # To read file as bytes:\n",
    "     bytes_data = uploaded_file.read()\n",
    "     st.write(bytes_data)\n",
    "\n",
    "     # To convert to a string based IO:\n",
    "     stringio = StringIO(uploaded_file.decode(\"utf-8\"))\n",
    "     st.write(stringio)\n",
    "\n",
    "     # To read file as string:\n",
    "     string_data = stringio.read()\n",
    "     st.write(string_data)\n",
    "\n",
    "     # Can be used wherever a \"file-like\" object is accepted:\n",
    "     st.write(uploaded_file)\n",
    "     dataframe = pd.read_csv(uploaded_file)\n",
    "     st.write(dataframe)\n",
    "\n",
    "# 多文件载入\n",
    "uploaded_files = st.file_uploader(\"Choose a CSV file\", accept_multiple_files=True)\n",
    "for uploaded_file in uploaded_files:\n",
    "    bytes_data = uploaded_file.read()\n",
    "    st.write(\"filename:\", uploaded_file.name)\n",
    "    st.write(bytes_data)"
   ]
  },
  {
   "cell_type": "markdown",
   "metadata": {},
   "source": [
    "## 折叠展开"
   ]
  },
  {
   "cell_type": "code",
   "execution_count": null,
   "metadata": {},
   "outputs": [],
   "source": [
    "with st.beta_expander(\"See explanation\"):\n",
    "    st.image(\"https://static.streamlit.io/examples/dice.jpg\")"
   ]
  },
  {
   "cell_type": "markdown",
   "metadata": {},
   "source": [
    "## 分块布局"
   ]
  },
  {
   "cell_type": "code",
   "execution_count": null,
   "metadata": {},
   "outputs": [],
   "source": [
    "col1, col2 = st.beta_columns(2)\n",
    "col1, col2 = st.beta_columns([3, 1]) # 按照比例分列展示\n",
    "\n",
    "# col1,col2重复，则自上而下每行两个\n",
    "with col1:\n",
    "with col2:\n",
    "with col1:\n",
    "    st.image(other_pic, use_column_width=True)\n",
    "    other = st.checkbox('Other')\n",
    "with col2:"
   ]
  },
  {
   "cell_type": "markdown",
   "metadata": {},
   "source": [
    "## 滑条框\n",
    "- streamlit.slider(label, min_value=None, max_value=None, value=None, step=None, format=None, key=None)"
   ]
  },
  {
   "cell_type": "code",
   "execution_count": null,
   "metadata": {},
   "outputs": [],
   "source": [
    "age = st.slider('How old are you?', 0, 130, 25)\n",
    "st.write(\"I'm \", age, 'years old')\n",
    "\n",
    "# 常规滑块 - range slider\n",
    "values = st.slider(\n",
    "    'Select a range of values',\n",
    "    0.0, 100.0, (25.0, 75.0))\n",
    "st.write('Values:', values)\n",
    "# 时间滑块 - time slider\n",
    "from datetime import time\n",
    "appointment = st.slider(\n",
    "     \"Schedule your appointment:\",\n",
    "     value=(time(11, 30), time(12, 45)))\n",
    "st.write(\"You're scheduled for:\", appointment)\n",
    "# 日期选项 - datetime slider\n",
    "from datetime import datetime\n",
    "start_time = st.slider(\n",
    "     \"When do you start?\",\n",
    "     value=datetime(2020, 1, 1, 9, 30),\n",
    "     format=\"MM/DD/YY - hh:mm\")\n",
    "st.write(\"Start time:\", start_time)"
   ]
  },
  {
   "cell_type": "code",
   "execution_count": null,
   "metadata": {},
   "outputs": [],
   "source": [
    "# 选择滑块\n",
    "# 常规\n",
    "color = st.select_slider(\n",
    "     'Select a color of the rainbow',\n",
    "     options=['red', 'orange', 'yellow', 'green', 'blue', 'indigo', 'violet'])\n",
    "st.write('My favorite color is', color)\n",
    "# range select slider 区域范围的选择滑块\n",
    "start_color, end_color = st.select_slider(\n",
    "    'Select a range of color wavelength',\n",
    "     options=['red', 'orange', 'yellow', 'green', 'blue', 'indigo', 'violet'],\n",
    "     value=('red', 'blue'))\n",
    "st.write('You selected wavelengths between', start_color, 'and', end_color)"
   ]
  },
  {
   "cell_type": "markdown",
   "metadata": {},
   "source": [
    "## 下拉框(单/多选)"
   ]
  },
  {
   "cell_type": "code",
   "execution_count": null,
   "metadata": {},
   "outputs": [],
   "source": [
    "# 单选\n",
    "title_st = st.selectbox(\"Which title would you prefer?\", options=title_list)\n",
    "# 多选\n",
    "department_selection = st.multiselect('',department,default=department) # 多重选择, 默认全选"
   ]
  },
  {
   "cell_type": "markdown",
   "metadata": {},
   "source": [
    "## 控制组件\n",
    "- 功能：只有输入复制给指定变量了，才会继续进行下去。"
   ]
  },
  {
   "cell_type": "code",
   "execution_count": null,
   "metadata": {},
   "outputs": [],
   "source": [
    "name = st.text_input('Name')\n",
    "if not name:\n",
    "    st.warning('Please input a name.')\n",
    "    st.stop()\n",
    "st.success(f'Thank you for inputting a name. {name}')"
   ]
  },
  {
   "cell_type": "markdown",
   "metadata": {},
   "source": [
    "## 通过滑动框及下拉框选择数据集\n",
    "- w.shape[0]返回的是w的行数\n",
    "- .shape[1]返回的是w的列数\n",
    "- df.shape()：查看行数和列数"
   ]
  },
  {
   "cell_type": "code",
   "execution_count": null,
   "metadata": {},
   "outputs": [],
   "source": [
    "# 根据选择过滤数据\n",
    "mask = (df['年龄'].between(*age_selection)) & (df['部门'].isin(department_selection))\n",
    "number_of_result = df[mask].shape[0] \n",
    "# 根据筛选条件, 得到有效数据\n",
    "st.markdown(f'*有效数据: {number_of_result}*')"
   ]
  },
  {
   "cell_type": "markdown",
   "metadata": {},
   "source": [
    "## 进度、状态、气球及报错显示设置\n",
    "- 按时间的进度my_bar.progress\n",
    "- 运行及加载时，自定义的进行中的标识\n",
    "- 进击的气球\n",
    "- 展示报错"
   ]
  },
  {
   "cell_type": "code",
   "execution_count": null,
   "metadata": {},
   "outputs": [],
   "source": [
    "# 按时间的进度my_bar.progress\n",
    "my_bar = st.progress(0)\n",
    "\n",
    "for percent_complete in range(100):\n",
    "    time.sleep(0.1)\n",
    "    my_bar.progress(percent_complete + 1)\n",
    "\n",
    "# 时间组件 - 进行中的标识（如果有一段代码在运行，那么可以使用这个，在执行的时候会有\"wait for it\"的提示.）\n",
    "with st.spinner('Wait for it...'):\n",
    "    time.sleep(5)\n",
    "st.success('Done!')\n",
    "\n",
    "# 进击的气球 - 有一排气球往上飞\n",
    "st.balloons()\n",
    "\n",
    "# 展示报错\n",
    "st.error('This is an error')"
   ]
  },
  {
   "cell_type": "markdown",
   "metadata": {},
   "source": [
    "# 文本显示组件"
   ]
  },
  {
   "cell_type": "markdown",
   "metadata": {},
   "source": [
    "## 各类文本展示\n",
    "- 常规文本 - `st.text`\n",
    "- 写markdown - `st.markdown`：同Jupyter的markdown\n",
    "- 写latex - `st.latex`：数学公式\n",
    "- 超链接\n",
    "- 代码展示"
   ]
  },
  {
   "cell_type": "code",
   "execution_count": null,
   "metadata": {},
   "outputs": [],
   "source": [
    "st.text('This will appear first')\n",
    "st.markdown('Streamlit is **_really_ cool**.')\n",
    "st.latex(r'''a + ar + a r^2 + a r^3 + \\cdots + a r^{n-1} =\\sum_{k=0}^{n-1} ar^k =a \\left(\\frac{1-r^{n}}{1-r}\\right)''')\n",
    "\n",
    "#超链接\n",
    "st.markdown(\"[Hello](https://github.com/S-DeFerrari)\")\n",
    "st.write(\"[Hello](https://github.com/S-DeFerrari)\")\n",
    "\n",
    "# 代码展示\n",
    "with st.echo():\n",
    "    st.write('This code will be printed')"
   ]
  },
  {
   "cell_type": "markdown",
   "metadata": {},
   "source": [
    "## st.write()"
   ]
  },
  {
   "cell_type": "code",
   "execution_count": null,
   "metadata": {},
   "outputs": [],
   "source": [
    "import pandas as pd\n",
    "import numpy as np\n",
    "import altair as alt\n",
    "data_frame = pd.DataFrame({\n",
    "    'first column': [1, 2, 3, 4],\n",
    "    'second column': [10, 20, 30, 40],\n",
    "})\n",
    "df = pd.DataFrame(\n",
    "    np.random.randn(200, 3),\n",
    "   columns=['a', 'b', 'c'])\n",
    "c = alt.Chart(df).mark_circle().encode(\n",
    "    x='a', y='b', size='c', color='c', tooltip=['a', 'b', 'c'])\n",
    "\n",
    "# 显示表格\n",
    "st.write(data_frame)\n",
    "# 显示图表\n",
    "st.write(c)\n",
    "# 显示常量\n",
    "st.write(1234)\n",
    "# 句子中高亮显示常量\n",
    "st.write('1 + 1 = ', 2)\n",
    "# 句子中高亮显示变量值\n",
    "st.write('Below is a DataFrame:', data_frame, 'Above is a dataframe.') "
   ]
  },
  {
   "cell_type": "markdown",
   "metadata": {},
   "source": [
    "## 直接写代码"
   ]
  },
  {
   "cell_type": "code",
   "execution_count": null,
   "metadata": {},
   "outputs": [],
   "source": [
    "code = '''def hello():\n",
    "     print(\"Hello, Streamlit!\")'''\n",
    "st.code(code, language='python')"
   ]
  },
  {
   "cell_type": "markdown",
   "metadata": {},
   "source": [
    "## DF、TABLE及JSON显示\n",
    "- 展示dataframe: `streamlit.dataframe(data=None, width=None, height=None)`"
   ]
  },
  {
   "cell_type": "code",
   "execution_count": null,
   "metadata": {},
   "outputs": [],
   "source": [
    "df = pd.DataFrame(\n",
    "   np.random.randn(50, 20),\n",
    "  columns=('col %d' % i for i in range(20)))\n",
    "\n",
    "# Same as st.write(df)\n",
    "st.dataframe(df) \n",
    "# 可以规定显示多少行列 - (width,height)\n",
    "st.dataframe(df, 200, 100)\n",
    "# 高亮标记符合条件的值\n",
    "st.dataframe(df.style.highlight_max(axis=0))"
   ]
  },
  {
   "cell_type": "code",
   "execution_count": null,
   "metadata": {},
   "outputs": [],
   "source": [
    "# st.table 显示数据集\n",
    "df = pd.DataFrame(\n",
    "   np.random.randn(10, 5),\n",
    "   columns=('col %d' % i for i in range(5)))\n",
    "\n",
    "st.table(df)"
   ]
  },
  {
   "cell_type": "code",
   "execution_count": null,
   "metadata": {},
   "outputs": [],
   "source": [
    "# st.json以json的形式展示\n",
    "st.json({\n",
    "     'foo': 'bar',\n",
    "     'baz': 'boz',\n",
    "     'stuff': [\n",
    "         'stuff 1',\n",
    "         'stuff 2',\n",
    "         'stuff 3',\n",
    "         'stuff 5',\n",
    "     ],\n",
    " })"
   ]
  },
  {
   "cell_type": "markdown",
   "metadata": {},
   "source": [
    "# 素材组件"
   ]
  },
  {
   "cell_type": "markdown",
   "metadata": {},
   "source": [
    "## 图表\n"
   ]
  },
  {
   "cell_type": "markdown",
   "metadata": {},
   "source": [
    "### streamlit库图表\n",
    "- 直线图: `streamlit.line_chart(data=None, width=0, height=0, use_container_width=True)`\n",
    "- 面积图: `streamlit.area_chart(data=None, width=0, height=0, use_container_width=True)`\n",
    "- 柱状图: `streamlit.bar_chart(data=None, width=0, height=0, use_container_width=True)`\n",
    "- 气泡图: `streamlit.altair_chart(altair_chart, use_container_width=False)`\n",
    "- 气泡图2: `streamlit.altair_chart(altair_chart, use_container_width=False)`\n",
    "\n",
    "- 逻辑导图 `streamlit.graphviz_chart(figure_or_dot, use_container_width=False)`\n",
    "- 地图 `streamlit.map(data=None, zoom=None, use_container_width=True)`\n",
    "\n",
    "- pip install --pre plotly -i https://pypi.tuna.tsinghua.edu.cn/simple\n",
    "- pip install --pre graphviz -i https://pypi.tuna.tsinghua.edu.cn/simple"
   ]
  },
  {
   "cell_type": "markdown",
   "metadata": {},
   "source": [
    "#### st.line_chart直线图"
   ]
  },
  {
   "cell_type": "code",
   "execution_count": null,
   "metadata": {},
   "outputs": [],
   "source": [
    "chart_data = pd.DataFrame(\n",
    "    np.random.randn(20, 3),\n",
    "    columns=['a', 'b', 'c'])\n",
    "\n",
    "st.line_chart(chart_data)"
   ]
  },
  {
   "cell_type": "code",
   "execution_count": 10,
   "metadata": {
    "collapsed": true
   },
   "outputs": [
    {
     "ename": "TypeError",
     "evalue": "'int' object is not iterable",
     "output_type": "error",
     "traceback": [
      "\u001b[1;31m---------------------------------------------------------------------------\u001b[0m",
      "\u001b[1;31mTypeError\u001b[0m                                 Traceback (most recent call last)",
      "\u001b[1;32m<ipython-input-10-d748e9011535>\u001b[0m in \u001b[0;36m<module>\u001b[1;34m\u001b[0m\n\u001b[0;32m      1\u001b[0m \u001b[0mk\u001b[0m \u001b[1;33m=\u001b[0m \u001b[1;33m[\u001b[0m\u001b[1;36m1\u001b[0m\u001b[1;33m,\u001b[0m\u001b[1;36m2\u001b[0m\u001b[1;33m,\u001b[0m\u001b[1;36m3\u001b[0m\u001b[1;33m,\u001b[0m\u001b[1;36m4\u001b[0m\u001b[1;33m,\u001b[0m\u001b[1;36m5\u001b[0m\u001b[1;33m,\u001b[0m\u001b[1;36m6\u001b[0m\u001b[1;33m]\u001b[0m\u001b[1;33m\u001b[0m\u001b[1;33m\u001b[0m\u001b[0m\n\u001b[1;32m----> 2\u001b[1;33m \u001b[0mtest\u001b[0m \u001b[1;33m=\u001b[0m \u001b[1;33m[\u001b[0m\u001b[0mlist\u001b[0m\u001b[1;33m(\u001b[0m\u001b[0mj\u001b[0m\u001b[1;33m)\u001b[0m \u001b[1;32mfor\u001b[0m \u001b[0mi\u001b[0m \u001b[1;32min\u001b[0m \u001b[0mrange\u001b[0m\u001b[1;33m(\u001b[0m\u001b[1;36m3\u001b[0m\u001b[1;33m)\u001b[0m \u001b[1;32mfor\u001b[0m \u001b[0mj\u001b[0m \u001b[1;32min\u001b[0m \u001b[0mk\u001b[0m\u001b[1;33m]\u001b[0m\u001b[1;33m\u001b[0m\u001b[1;33m\u001b[0m\u001b[0m\n\u001b[0m\u001b[0;32m      3\u001b[0m \u001b[0mtest\u001b[0m\u001b[1;33m\u001b[0m\u001b[1;33m\u001b[0m\u001b[0m\n",
      "\u001b[1;32m<ipython-input-10-d748e9011535>\u001b[0m in \u001b[0;36m<listcomp>\u001b[1;34m(.0)\u001b[0m\n\u001b[0;32m      1\u001b[0m \u001b[0mk\u001b[0m \u001b[1;33m=\u001b[0m \u001b[1;33m[\u001b[0m\u001b[1;36m1\u001b[0m\u001b[1;33m,\u001b[0m\u001b[1;36m2\u001b[0m\u001b[1;33m,\u001b[0m\u001b[1;36m3\u001b[0m\u001b[1;33m,\u001b[0m\u001b[1;36m4\u001b[0m\u001b[1;33m,\u001b[0m\u001b[1;36m5\u001b[0m\u001b[1;33m,\u001b[0m\u001b[1;36m6\u001b[0m\u001b[1;33m]\u001b[0m\u001b[1;33m\u001b[0m\u001b[1;33m\u001b[0m\u001b[0m\n\u001b[1;32m----> 2\u001b[1;33m \u001b[0mtest\u001b[0m \u001b[1;33m=\u001b[0m \u001b[1;33m[\u001b[0m\u001b[0mlist\u001b[0m\u001b[1;33m(\u001b[0m\u001b[0mj\u001b[0m\u001b[1;33m)\u001b[0m \u001b[1;32mfor\u001b[0m \u001b[0mi\u001b[0m \u001b[1;32min\u001b[0m \u001b[0mrange\u001b[0m\u001b[1;33m(\u001b[0m\u001b[1;36m3\u001b[0m\u001b[1;33m)\u001b[0m \u001b[1;32mfor\u001b[0m \u001b[0mj\u001b[0m \u001b[1;32min\u001b[0m \u001b[0mk\u001b[0m\u001b[1;33m]\u001b[0m\u001b[1;33m\u001b[0m\u001b[1;33m\u001b[0m\u001b[0m\n\u001b[0m\u001b[0;32m      3\u001b[0m \u001b[0mtest\u001b[0m\u001b[1;33m\u001b[0m\u001b[1;33m\u001b[0m\u001b[0m\n",
      "\u001b[1;31mTypeError\u001b[0m: 'int' object is not iterable"
     ]
    }
   ],
   "source": [
    "k = [1,2,3,4,5,6]\n",
    "test = [list(j) for i in range(3) for j in k[0:3]]\n",
    "test"
   ]
  },
  {
   "cell_type": "code",
   "execution_count": 12,
   "metadata": {},
   "outputs": [
    {
     "data": {
      "text/plain": [
       "['年末总人口', '男性人口', '女性人口', '城镇人口', '乡村人口']"
      ]
     },
     "execution_count": 12,
     "metadata": {},
     "output_type": "execute_result"
    }
   ],
   "source": [
    "obj10 = pd.read_csv('C:/Users/1700/Desktop/知识总结/code/streamlit/中国国情数据可视化网站/源数据/国家统计局年度数据/人口/总人口.csv')\n",
    "\n",
    "x = obj10.columns.tolist()\n",
    "y = []\n",
    "k = [j for i in range(0,len(obj10.index)) for j in obj10.iloc[i].tolist()]\n",
    "for i in range(0,len(obj10.index)):\n",
    "    y.append(obj10.iloc[i].tolist())\n",
    "chart_data1 = pd.DataFrame(y,columns=x).set_index('年份')\n",
    "chart_data1.columns.tolist()\n",
    "#st.line_chart(chart_data1)"
   ]
  },
  {
   "cell_type": "markdown",
   "metadata": {},
   "source": [
    "#### st.area_chart面积图"
   ]
  },
  {
   "cell_type": "code",
   "execution_count": null,
   "metadata": {},
   "outputs": [],
   "source": [
    "chart_data = pd.DataFrame(\n",
    "    np.random.randn(20, 3),\n",
    "    columns=['a', 'b', 'c'])\n",
    "\n",
    "st.area_chart(chart_data)"
   ]
  },
  {
   "cell_type": "markdown",
   "metadata": {},
   "source": [
    "#### st.bar_chart柱状图"
   ]
  },
  {
   "cell_type": "code",
   "execution_count": null,
   "metadata": {},
   "outputs": [],
   "source": [
    "chart_data = pd.DataFrame(\n",
    "    np.random.randn(50, 3),\n",
    "    columns=[\"a\", \"b\", \"c\"])\n",
    "\n",
    "st.bar_chart(chart_data)"
   ]
  },
  {
   "cell_type": "markdown",
   "metadata": {},
   "source": [
    "#### st.altair_chart气泡图"
   ]
  },
  {
   "cell_type": "code",
   "execution_count": null,
   "metadata": {},
   "outputs": [],
   "source": [
    "df = pd.DataFrame(\n",
    " np.random.randn(200, 3),\n",
    " columns=['a', 'b', 'c'])\n",
    "\n",
    "c = alt.Chart(df).mark_circle().encode(\n",
    " x='a', y='b', size='c', color='c', tooltip=['a', 'b', 'c'])\n",
    "\n",
    "st.altair_chart(c, use_container_width=True)"
   ]
  },
  {
   "cell_type": "markdown",
   "metadata": {},
   "source": [
    "#### st.vega_lite_chart气泡图2"
   ]
  },
  {
   "cell_type": "code",
   "execution_count": null,
   "metadata": {},
   "outputs": [],
   "source": [
    "df = pd.DataFrame(\n",
    "     np.random.randn(200, 3),\n",
    "     columns=['a', 'b', 'c'])\n",
    "\n",
    "st.vega_lite_chart(df, {\n",
    "     'mark': {'type': 'circle', 'tooltip': True},\n",
    "     'encoding': {\n",
    "         'x': {'field': 'a', 'type': 'quantitative'},\n",
    "         'y': {'field': 'b', 'type': 'quantitative'},\n",
    "         'size': {'field': 'c', 'type': 'quantitative'},\n",
    "         'color': {'field': 'c', 'type': 'quantitative'},\n",
    "     },\n",
    " })"
   ]
  },
  {
   "cell_type": "markdown",
   "metadata": {},
   "source": [
    "#### 逻辑导图graphviz_chart"
   ]
  },
  {
   "cell_type": "code",
   "execution_count": null,
   "metadata": {},
   "outputs": [],
   "source": [
    "import streamlit as st\n",
    "import graphviz as graphviz\n",
    "# Create a graphlib graph object\n",
    "graph = graphviz.Digraph()\n",
    "graph.edge('run', 'intr')\n",
    "graph.edge('intr', 'runbl')\n",
    "graph.edge('runbl', 'run')\n",
    "graph.edge('run', 'kernel')\n",
    "graph.edge('kernel', 'zombie')\n",
    "graph.edge('kernel', 'sleep')\n",
    "graph.edge('kernel', 'runmem')\n",
    "graph.edge('sleep', 'swap')\n",
    "graph.edge('swap', 'runswap')\n",
    "graph.edge('runswap', 'new')\n",
    "graph.edge('runswap', 'runmem')\n",
    "graph.edge('new', 'runmem')\n",
    "graph.edge('sleep', 'runmem')\n",
    "\n",
    "st.graphviz_chart(graph)\n",
    "\n",
    "\n",
    "st.graphviz_chart('''\n",
    "    digraph {\n",
    "        run -> intr\n",
    "        intr -> runbl\n",
    "        runbl -> run\n",
    "        run -> kernel\n",
    "        kernel -> zombie\n",
    "        kernel -> sleep\n",
    "        kernel -> runmem\n",
    "        sleep -> swap\n",
    "        swap -> runswap\n",
    "        runswap -> new\n",
    "        runswap -> runmem\n",
    "        new -> runmem\n",
    "        sleep -> runmem\n",
    "    }\n",
    "''')"
   ]
  },
  {
   "cell_type": "markdown",
   "metadata": {},
   "source": [
    "#### 地图map"
   ]
  },
  {
   "cell_type": "code",
   "execution_count": null,
   "metadata": {},
   "outputs": [],
   "source": [
    "df = pd.DataFrame(\n",
    "     np.random.randn(1000, 2) / [50, 50] + [37.76, -122.4],\n",
    "     columns=['lat', 'lon'])\n",
    "\n",
    "st.map(df)"
   ]
  },
  {
   "cell_type": "markdown",
   "metadata": {},
   "source": [
    "### pyecharts绘图示例"
   ]
  },
  {
   "cell_type": "markdown",
   "metadata": {},
   "source": [
    "#### 柱状图示例"
   ]
  },
  {
   "cell_type": "code",
   "execution_count": null,
   "metadata": {},
   "outputs": [],
   "source": [
    "b = (\n",
    "    Bar()\n",
    "    .add_xaxis([\"Microsoft\", \"Amazon\", \"IBM\", \"Oracle\", \"Google\", \"Alibaba\"])\n",
    "    .add_yaxis(\n",
    "        \"2017-2018 Revenue in (billion $)\", [21.2, 20.4, 10.3, 6.08, 4, 2.2]\n",
    "    )\n",
    "    .set_global_opts(\n",
    "        title_opts=opts.TitleOpts(\n",
    "            title=\"Top cloud providers 2018\", subtitle=\"2017-2018 Revenue\"\n",
    "        ),\n",
    "        toolbox_opts=opts.ToolboxOpts(),\n",
    "    )\n",
    ")\n",
    "st_pyecharts(b)"
   ]
  },
  {
   "cell_type": "markdown",
   "metadata": {},
   "source": [
    "## 图片、音频、视频展示\n",
    "- image(image, caption=None, width=None, use_column_width=None, clamp=False, channels='RGB', output_format='auto') "
   ]
  },
  {
   "cell_type": "code",
   "execution_count": null,
   "metadata": {},
   "outputs": [],
   "source": [
    "# 展示图片\n",
    "from PIL import Image\n",
    "image = Image.open(filepath + 'sunrise.jpg')\n",
    "\n",
    "st.image(image, caption='Sunrise by the mountains',\n",
    "         use_column_width=True)\n",
    "\n",
    "# 打开音频\n",
    "audio_file = open(filepath + 'myaudio.ogg', 'rb')\n",
    "audio_bytes = audio_file.read()\n",
    "\n",
    "st.audio(audio_bytes, format='audio/ogg')\n",
    "\n",
    "# 打开视频\n",
    "video_file = open(filepath + 'myvideo.mp4', 'rb')\n",
    "video_bytes = video_file.read()\n",
    "\n",
    "st.video(video_bytes)"
   ]
  },
  {
   "cell_type": "markdown",
   "metadata": {},
   "source": [
    "# [!缓存cache](https://mattzheng.blog.csdn.net/article/details/113531087)"
   ]
  },
  {
   "cell_type": "markdown",
   "metadata": {},
   "source": [
    "# [!streamlit 数据探索案例](https://mattzheng.blog.csdn.net/article/details/113531457)"
   ]
  }
 ],
 "metadata": {
  "kernelspec": {
   "display_name": "Python 3",
   "language": "python",
   "name": "python3"
  },
  "language_info": {
   "codemirror_mode": {
    "name": "ipython",
    "version": 3
   },
   "file_extension": ".py",
   "mimetype": "text/x-python",
   "name": "python",
   "nbconvert_exporter": "python",
   "pygments_lexer": "ipython3",
   "version": "3.7.3"
  },
  "toc": {
   "base_numbering": 1,
   "nav_menu": {},
   "number_sections": true,
   "sideBar": true,
   "skip_h1_title": false,
   "title_cell": "Table of Contents",
   "title_sidebar": "Contents",
   "toc_cell": false,
   "toc_position": {
    "height": "calc(100% - 180px)",
    "left": "10px",
    "top": "150px",
    "width": "388.889px"
   },
   "toc_section_display": true,
   "toc_window_display": true
  }
 },
 "nbformat": 4,
 "nbformat_minor": 2
}
