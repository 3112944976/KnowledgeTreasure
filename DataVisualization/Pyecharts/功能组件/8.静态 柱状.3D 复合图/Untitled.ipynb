{
 "cells": [
  {
   "cell_type": "code",
   "execution_count": 7,
   "metadata": {},
   "outputs": [],
   "source": [
    "y_data = [\n",
    "    (\"北京\", [116.5, 40, 100]),#？\n",
    "    (\"天津\", [117.4219, 39.4189, 300]),\n",
    "    (\"河北\", [114.4995, 38.1006, 300]),\n",
    "    (\"山西\", [112.3352, 37.9413, 300]),\n",
    "    (\"内蒙古\", [110.3467, 41.4899, 300]),\n",
    "    (\"辽宁\", [123.1238, 42.1216, 300]),\n",
    "    (\"吉林\", [125.8154, 44.2584, 300]),\n",
    "    (\"黑龙江\", [127.9688, 45.368, 100]),\n",
    "    (\"上海\", [121.4648, 31.2891, 1300]),\n",
    "    (\"江苏\", [118.8062, 31.9208, 300]),\n",
    "    (\"浙江\", [119.5313, 29.8773, 300]),\n",
    "    (\"安徽\", [117.29, 32.0581, 300]),\n",
    "    (\"福建\", [119.4543, 25.9222, 300]),\n",
    "    (\"江西\", [116.0046, 28.6633, 300]),\n",
    "    (\"山东\", [117.1582, 36.8701, 300]),\n",
    "    (\"河南\", [113.4668, 34.6234, 300]),\n",
    "    (\"湖北\", [114.3896, 30.6628, 300]),\n",
    "    (\"湖南\", [113.0823, 28.2568, 300]),\n",
    "    (\"广东\", [113, 23.368, 100]),#？\n",
    "    (\"广西\", [108.479, 23.1152, 300]),\n",
    "    (\"海南\", [110.3893, 19.8516, 300]),\n",
    "    (\"重庆\", [108.384366, 30.439702, 300]),\n",
    "    (\"四川\", [103.9526, 30.7617, 300]),\n",
    "    (\"贵州\", [106.6992, 26.7682, 300]),\n",
    "    (\"云南\", [103, 24, 100]),#?\n",
    "    (\"西藏\", [91.11, 29.97, 300]),\n",
    "    (\"陕西\", [109.1162, 34.2004, 300]),\n",
    "    (\"甘肃\", [103.5901, 36.3043, 300]),\n",
    "    (\"青海\", [101.4038, 36.8207, 300]),\n",
    "    (\"宁夏\", [106.3586, 38.1775, 300]),\n",
    "    (\"新疆\", [87.9236, 43.5883, 300]),\n",
    "]"
   ]
  },
  {
   "cell_type": "code",
   "execution_count": 32,
   "metadata": {},
   "outputs": [
    {
     "name": "stderr",
     "output_type": "stream",
     "text": [
      "D:\\Anaconda3\\lib\\site-packages\\pyecharts\\charts\\chart.py:14: PendingDeprecationWarning: pyecharts 所有图表类型将在 v1.9.0 版本开始强制使用 ChartItem 进行数据项配置 :)\n",
      "  super().__init__(init_opts=init_opts)\n"
     ]
    },
    {
     "data": {
      "text/plain": [
       "'C:\\\\Users\\\\1700\\\\Desktop\\\\信息可视化\\\\code\\\\待完成项目\\\\3D地图\\\\分省总人口(柱状图+地图)可视化.html'"
      ]
     },
     "execution_count": 32,
     "metadata": {},
     "output_type": "execute_result"
    }
   ],
   "source": [
    "import pandas as pd\n",
    "import numpy as np\n",
    "from pyecharts import options as opts\n",
    "from pyecharts.charts import Map3D\n",
    "from pyecharts.globals import ChartType,ThemeType\n",
    "from pyecharts.commons.utils import JsCode\n",
    "\n",
    "url = r'C:\\Users\\1700\\Desktop\\信息可视化\\源数据\\国家统计局分省年度数据\\人口\\总人口.csv'\n",
    "obj1 = pd.read_csv(url)\n",
    "obj2 = obj1[obj1['年份'].isin([2019])]\n",
    "x_name = [i[:2] for i in obj2['省份']]\n",
    "x_name[x_name.index('内蒙')] = '内蒙古'\n",
    "x_name[x_name.index('黑龙')] = '黑龙江'\n",
    "y = [int(i) for i in obj1['年末常住人口(万人)']]\n",
    "y_2 = []\n",
    "for i in range(0,31):\n",
    "    y_2.append(list(y[0:20]))\n",
    "    y = y[20:]\n",
    "y_3 = np.array(y_2).T.tolist()\n",
    "\n",
    "y_tmp = []\n",
    "for i,j in zip(y_data,y_3[0]):\n",
    "    tmp = list(i)\n",
    "    tmp[1][2]=j\n",
    "    y_tmp.append(tuple(tmp))\n",
    "\n",
    "c = (\n",
    "    Map3D()\n",
    "    .add_schema(\n",
    "        itemstyle_opts=opts.ItemStyleOpts(\n",
    "            color=\"rgb(5,101,123)\",\n",
    "            opacity=1,\n",
    "            border_width=0.8,\n",
    "            border_color=\"rgb(62,215,213)\",\n",
    "        ),\n",
    "        map3d_label=opts.Map3DLabelOpts(\n",
    "            is_show=False,\n",
    "            formatter=JsCode(\"function(data){return data.name + \" \" + data.value[2];}\"),\n",
    "        ),\n",
    "        emphasis_label_opts=opts.LabelOpts(\n",
    "            is_show=False,\n",
    "            color=\"#fff\",\n",
    "            font_size=10,\n",
    "            background_color=\"rgba(0,23,11,0)\",#非显著\n",
    "        ),\n",
    "        light_opts=opts.Map3DLightOpts(\n",
    "            main_color=\"#D3FF93\",\n",
    "            main_intensity=1.2,\n",
    "            main_shadow_quality=\"high\",\n",
    "            is_main_shadow=False,\n",
    "            main_beta=10,\n",
    "            ambient_intensity=0.3,\n",
    "        ),\n",
    "    )\n",
    "    .add(\n",
    "        series_name=\"各地区年末常住人口(万人)\",\n",
    "        data_pair=y_tmp,#?????\n",
    "        type_=ChartType.BAR3D,\n",
    "        bar_size=1,\n",
    "        shading=\"lambert\",\n",
    "        label_opts=opts.LabelOpts(\n",
    "            is_show=False,\n",
    "            formatter=JsCode(\"function(data){return data.name + ' ' + data.value[2];}\"),\n",
    "        ),\n",
    "    )\n",
    "    .set_global_opts(title_opts=opts.TitleOpts(title=\"2019年分省总人口(柱状图+地图)可视化\"),\n",
    "                     visualmap_opts=opts.VisualMapOpts(is_show=False),\n",
    "                     tooltip_opts=opts.TooltipOpts(is_show=True),\n",
    "                    )\n",
    "\n",
    ")\n",
    "c.render(\"分省总人口(柱状图+地图)可视化.html\")"
   ]
  },
  {
   "cell_type": "code",
   "execution_count": null,
   "metadata": {},
   "outputs": [],
   "source": []
  }
 ],
 "metadata": {
  "kernelspec": {
   "display_name": "Python 3",
   "language": "python",
   "name": "python3"
  },
  "language_info": {
   "codemirror_mode": {
    "name": "ipython",
    "version": 3
   },
   "file_extension": ".py",
   "mimetype": "text/x-python",
   "name": "python",
   "nbconvert_exporter": "python",
   "pygments_lexer": "ipython3",
   "version": "3.7.3"
  }
 },
 "nbformat": 4,
 "nbformat_minor": 2
}
