{
 "cells": [
  {
   "cell_type": "markdown",
   "metadata": {},
   "source": [
    "# 四 面向对象编程--自定义的数类型  类\n",
    "- 面向队形编程的基本思想\n",
    "- 类和对象\n",
    "- 类的结构\n",
    "- 魔法函数\n",
    "- 类的设计和实例化操作"
   ]
  },
  {
   "cell_type": "markdown",
   "metadata": {},
   "source": [
    "## 一切皆对象"
   ]
  },
  {
   "cell_type": "code",
   "execution_count": 5,
   "metadata": {},
   "outputs": [
    {
     "data": {
      "text/plain": [
       "True"
      ]
     },
     "execution_count": 5,
     "metadata": {},
     "output_type": "execute_result"
    }
   ],
   "source": [
    "#对象由数据和行为构成，一切对象都有数据类型（属性），而其属性又是由其引申的值的类型动态决定的。\n",
    "#如果对象引申的内容是单一的，则对象的属性是由其该内容的数据类型决定的。\n",
    "#如果对象引申的内容是复杂的，则对象的属性是由组织该复杂内容的容器决定的。\n",
    "type(abs)\n",
    "type(\"str\")\n",
    "type(1)\n",
    "type([])\n",
    "\n",
    "isinstance([], list)"
   ]
  },
  {
   "cell_type": "markdown",
   "metadata": {},
   "source": [
    "## 类与对象的关系"
   ]
  },
  {
   "cell_type": "markdown",
   "metadata": {},
   "source": [
    "类：从一般抽象出来的\n",
    "对象：实例化类的变量"
   ]
  },
  {
   "cell_type": "code",
   "execution_count": 9,
   "metadata": {
    "collapsed": true
   },
   "outputs": [],
   "source": [
    "#类的创建和对象的初始化 \n",
    "#设计类的原则：一个是数据属性；一个是行为属性-函数\n",
    "# student {\n",
    "#      string   name\n",
    "#      int      age\n",
    "#      int      id\n",
    "#      def      student():\n",
    "               \n",
    "#      def      checkscore:\n",
    "#      def      caculateinfo\n",
    "# }\n"
   ]
  },
  {
   "cell_type": "code",
   "execution_count": 3,
   "metadata": {},
   "outputs": [
    {
     "name": "stdout",
     "output_type": "stream",
     "text": [
      "__init__ is called\n"
     ]
    },
    {
     "data": {
      "text/plain": [
       "'you have graduated!'"
      ]
     },
     "execution_count": 3,
     "metadata": {},
     "output_type": "execute_result"
    }
   ],
   "source": [
    "#类的定义\n",
    "class Student():\n",
    "    #类变量（类的数据成员）\n",
    "    student_total = 0\n",
    "    student_list = []\n",
    "    student_graduated = 0\n",
    "    pass_scroe = 1000\n",
    "    \n",
    "   # __init__：初始化对象内存\n",
    "    def __init__(self, name, age, gender):\n",
    "        #实例变量\n",
    "        print(\"__init__ is called\")\n",
    "        self.name = name\n",
    "        self.age = age\n",
    "        self.gender = gender\n",
    "        self.__score = 0#访问权限：公有的、继承的、私有的（类内和类外）\n",
    "        Student.student_total +=1\n",
    "        Student.student_list.append(name)\n",
    "        \n",
    "    def exam(self, score):\n",
    "        if score <60:\n",
    "            return \"sorry, you have failed this time, beter luck next time\"\n",
    "        else:\n",
    "            self.__score += score\n",
    "            str1 = 'good1 your score now is :' + str(self.__score)\n",
    "        if self.__score >= Student.pass_scroe:\n",
    "            print(\"you may graduate, Student.student_graduated:\", Student.student_graduated)\n",
    "            Student.student_graduated +=1\n",
    "        return str1\n",
    "    def check(self, ):\n",
    "        if self.__score < Student.pass_scroe:\n",
    "            return \"you have \", Student.pass_scroe - self.__score, 'scores to archive'\n",
    "        else:\n",
    "            return 'you have graduated!'\n",
    "    def inr_scores(self, score):\n",
    "        self.__score = score\n",
    "        return self.__score\n",
    "        \n",
    "            \n",
    "#实用类--实例化类--对象\n",
    "xiaohong = Student(\"xiaohong\", 22, 'female')#Student.__init__()\n",
    "type(xiaohong)\n",
    "#xiaohong.__score = 1200  无效赋值\n",
    "#xiaohong.inr_scores(1200)  有效赋值\n",
    "xiaohong._Student__score = 1200\n",
    "xiaohong.age = 21\n",
    "xiaohong.check()"
   ]
  },
  {
   "cell_type": "code",
   "execution_count": 17,
   "metadata": {},
   "outputs": [
    {
     "name": "stdout",
     "output_type": "stream",
     "text": [
      "__init__ is called\n",
      "good1 your score now is :99\n",
      "you may graduate, Student.student_graduated: 0\n"
     ]
    },
    {
     "data": {
      "text/plain": [
       "'you have graduated!'"
      ]
     },
     "execution_count": 17,
     "metadata": {},
     "output_type": "execute_result"
    }
   ],
   "source": [
    "xm = Student(\"xiaoming\", 10, 'male')\n",
    "print(xm.exam(99))\n",
    "for i in range(10):\n",
    "    xm.exam(96)\n",
    "xm.check()"
   ]
  },
  {
   "cell_type": "markdown",
   "metadata": {},
   "source": [
    "### 实例方法 、类方法 、静态方法"
   ]
  },
  {
   "cell_type": "markdown",
   "metadata": {},
   "source": [
    "- 实例方法：\n",
    "  定义：具体对象特有的的功能\n",
    "  调用：只能通过实例化后的对象进行调用的，第一个形参是self\n",
    "  \n",
    "- 类方法：\n",
    "  定义： 使用装饰器@classmethod, 第一个参数必须是当前类对象，通常设定为cls\n",
    "  调用：实例对象和类对象都可调用\n",
    "  \n",
    " - 静态方法：\n",
    "  定义：使用装饰器@staticmethod,参数随意，但是其中不能使用类或实例的任何属性和方法\n",
    "  调用：实例对象和类对象都可调用"
   ]
  },
  {
   "cell_type": "code",
   "execution_count": 26,
   "metadata": {},
   "outputs": [
    {
     "name": "stdout",
     "output_type": "stream",
     "text": [
      "2\n"
     ]
    }
   ],
   "source": [
    "class ClassTest(object):\n",
    "    __num = 0\n",
    "    \n",
    "    @classmethod\n",
    "    def addNum(cls, ):\n",
    "        cls.__num +=1\n",
    "    @classmethod\n",
    "    def getNum(cls):\n",
    "        return cls.__num\n",
    "    \n",
    "    #魔法函数__new__主要是为了在创建实例的时候调用人数累加的函数\n",
    "    def __new__(self):\n",
    "        ClassTest.addNum()\n",
    "        return super(ClassTest, self).__new__(self)\n",
    "    \n",
    "class Student(ClassTest):\n",
    "    def __init__(self):\n",
    "        self.name = \"\"\n",
    "        \n",
    "a = Student()\n",
    "b = Student()\n",
    "print(ClassTest.getNum())"
   ]
  },
  {
   "cell_type": "code",
   "execution_count": 34,
   "metadata": {},
   "outputs": [
    {
     "name": "stdout",
     "output_type": "stream",
     "text": [
      "10:54:50\n",
      "10:54:50\n"
     ]
    }
   ],
   "source": [
    "#静态方法\n",
    "import time\n",
    "class TimeTest(object):\n",
    "    def __init__(self, hour, minute, second):\n",
    "        self.hour = hour\n",
    "        self.minute = minute\n",
    "        self.second = second\n",
    "    @staticmethod\n",
    "    def showTime():\n",
    "#         self.hour = 100\n",
    "        return time.strftime(\"%H:%M:%S\", time.localtime())\n",
    "print(TimeTest.showTime())\n",
    "t = TimeTest(1,20,20)\n",
    "nowTime = t.showTime()\n",
    "print(nowTime)"
   ]
  },
  {
   "cell_type": "markdown",
   "metadata": {},
   "source": [
    "### 类的继承和多态"
   ]
  },
  {
   "cell_type": "code",
   "execution_count": 4,
   "metadata": {},
   "outputs": [
    {
     "name": "stdout",
     "output_type": "stream",
     "text": [
      "parent init\n",
      "father\n",
      "parent init\n",
      "chile init\n",
      "gou\n",
      "mac\n"
     ]
    }
   ],
   "source": [
    "#继承的构造：子类is a kind of 父类\n",
    "#信息类\n",
    "class MemberInof(object):\n",
    "    __name = None\n",
    "    __age = None\n",
    "    __score = None\n",
    "    \n",
    "    def __init__(self, name, age, score):\n",
    "        print(\"parent init\")\n",
    "        self.__name = name\n",
    "        self.__age = age\n",
    "        self.__score = score\n",
    "        \n",
    "    def GetName(self):\n",
    "        return self.__name\n",
    "\n",
    "class Student(MemberInof):\n",
    "    def __init__(self, name, age, score, comp):\n",
    "        MemberInof.__init__(self, name, age, score)\n",
    "        print(\"chile init\")\n",
    "        self.__comp = comp\n",
    "        \n",
    "    def GetComp(self):\n",
    "        return self.__comp\n",
    "mf = MemberInof(\"father\",88, 99)  \n",
    "print(mf.GetName())\n",
    "stu =Student('gou', 18, 88, \"mac\")\n",
    "print(stu.GetName())\n",
    "print(stu.GetComp())"
   ]
  },
  {
   "cell_type": "code",
   "execution_count": 14,
   "metadata": {},
   "outputs": [
    {
     "name": "stdout",
     "output_type": "stream",
     "text": [
      "cat: 喵喵喵！\n",
      "dog: 汪汪！\n",
      "Animal  talk()\n"
     ]
    }
   ],
   "source": [
    "# 多态\n",
    "class Animal(object):\n",
    "    def __init__(self, name):\n",
    "        self.name = name\n",
    "    def talk(self):\n",
    "#         raise NotImplementedError(\"abstract method\")\n",
    "         print(\"Animal  talk()\")\n",
    "        \n",
    "class Cat(Animal):\n",
    "    def talk(self):\n",
    "        print(\"%s: 喵喵喵！\" %self.name)\n",
    "              \n",
    "class Dog(Animal):\n",
    "    def talk(self):\n",
    "        print(\"%s: 汪汪！\" %self.name)\n",
    "# 提供一个接口，使用多种形态\n",
    "def fun(obj):\n",
    "    obj.talk()\n",
    "    \n",
    "al =Animal(\"father\")             \n",
    "c = Cat(\"cat\")\n",
    "        \n",
    "d = Dog(\"dog\")\n",
    "fun(c) \n",
    "fun(d) \n",
    "fun(al)"
   ]
  },
  {
   "cell_type": "code",
   "execution_count": 22,
   "metadata": {},
   "outputs": [
    {
     "name": "stdout",
     "output_type": "stream",
     "text": [
      "st1.__score: 12\n",
      "self.__score: 11\n",
      "直接访问私有属性：\n",
      "st1.__score: 13\n",
      "self.__score: 13\n",
      "14\n"
     ]
    }
   ],
   "source": [
    "# 私有变量：设置了读写的权限\n",
    "# 类内和类外（例如对象）\n",
    "class Student(object):\n",
    "#     设计对象属性都在__init__进行声明\n",
    "    def __init__(self, socre):\n",
    "        self.__score = socre\n",
    "#     间接访问私有属性：通过公有的方法\n",
    "    def get_score(self):\n",
    "        return self.__score\n",
    "    def set_score(self, score):\n",
    "        self.__score = score\n",
    "        return self.__score    \n",
    "    \n",
    "st1 = Student(11)\n",
    "st1.__score = 12\n",
    "print(\"st1.__score:\", st1.__score)\n",
    "print(\"self.__score:\", st1.get_score())\n",
    "\n",
    "#直接访问私有属性\n",
    "print(\"直接访问私有属性：\")\n",
    "st1._Student__score = 13\n",
    "print(\"st1.__score:\", st1._Student__score)\n",
    "print(\"self.__score:\", st1.get_score())\n",
    "#通过类内公有的set方法对私有属性的修改\n",
    "st1.set_score(14)\n",
    "print(st1.get_score())"
   ]
  },
  {
   "cell_type": "markdown",
   "metadata": {
    "collapsed": true
   },
   "source": [
    "### OOP特性总结"
   ]
  },
  {
   "cell_type": "markdown",
   "metadata": {},
   "source": [
    "- 封装：数据和功能（构成了自定义的数据类型-类）\n",
    "- 继承：对类之间的关系进行了抽象,主要包括三方面-拿来、新增、变更（多态）\n",
    "- 多态：重写父类中同名函数\n"
   ]
  },
  {
   "cell_type": "markdown",
   "metadata": {},
   "source": [
    "## 魔术方法"
   ]
  },
  {
   "cell_type": "markdown",
   "metadata": {},
   "source": [
    "1. 魔术方法就是类中的一个方法，和普通方法唯一不同的是它不需要直接调用，会自动触发。\n",
    "2. 这些魔术方法的名字是特定的，坚决不可修改(但参数列表的参数是可以修改的)"
   ]
  },
  {
   "cell_type": "markdown",
   "metadata": {},
   "source": [
    "### 构造和初始化魔术"
   ]
  },
  {
   "cell_type": "code",
   "execution_count": 23,
   "metadata": {},
   "outputs": [
    {
     "name": "stdout",
     "output_type": "stream",
     "text": [
      " 被__init__\n",
      "我被__del__, bye\n"
     ]
    }
   ],
   "source": [
    "class myclass(object):\n",
    "    def __init__(self):\n",
    "        print(\" 被__init__\")\n",
    "    def __del__(self):\n",
    "        print(\"我被__del__, bye\")\n",
    "        \n",
    "c1 = myclass()\n",
    "del c1"
   ]
  },
  {
   "cell_type": "markdown",
   "metadata": {},
   "source": [
    "### 比较魔法"
   ]
  },
  {
   "cell_type": "code",
   "execution_count": 25,
   "metadata": {},
   "outputs": [
    {
     "name": "stdout",
     "output_type": "stream",
     "text": [
      " 被__init__\n",
      "我被__del__, bye\n",
      "can't compare with oher datatype except int\n",
      " 被__init__\n",
      "can't compare with oher datatype except int\n"
     ]
    }
   ],
   "source": [
    "class myclass(object):\n",
    "    def __init__(self, num):\n",
    "        print(\" 被__init__\")\n",
    "        self.num = num\n",
    "        \n",
    "    def __del__(self):\n",
    "        print(\"我被__del__, bye\")\n",
    "        \n",
    "    def __eq__(self, other):\n",
    "        if type(other) == int:\n",
    "            return True if self.num > other else False\n",
    "        else:\n",
    "            print(\"can't compare with oher datatype except int\")\n",
    "c1 = myclass(3)\n",
    "c1 == 'china'"
   ]
  },
  {
   "cell_type": "markdown",
   "metadata": {},
   "source": [
    "### 数值处理魔法"
   ]
  },
  {
   "cell_type": "code",
   "execution_count": 8,
   "metadata": {},
   "outputs": [
    {
     "name": "stdout",
     "output_type": "stream",
     "text": [
      " 被__init__\n",
      "__pos__ is called\n"
     ]
    },
    {
     "data": {
      "text/plain": [
       "3"
      ]
     },
     "execution_count": 8,
     "metadata": {},
     "output_type": "execute_result"
    }
   ],
   "source": [
    "class myclass(object):\n",
    "    def __init__(self, num):\n",
    "        print(\" 被__init__\")\n",
    "        self.num = num\n",
    "    def __pos__(self):\n",
    "        print(\"__pos__ is called\")\n",
    "        self.num = abs(self.num)\n",
    "\n",
    "c1 = myclass(-3)\n",
    "+c1\n",
    "c1.num"
   ]
  },
  {
   "cell_type": "markdown",
   "metadata": {},
   "source": [
    "### 容器魔法"
   ]
  },
  {
   "cell_type": "code",
   "execution_count": 30,
   "metadata": {},
   "outputs": [
    {
     "name": "stdout",
     "output_type": "stream",
     "text": [
      "10\n"
     ]
    },
    {
     "data": {
      "text/plain": [
       "[0, 1, 2, 3, 4, 5, 6, 7, 8, 9]"
      ]
     },
     "execution_count": 30,
     "metadata": {},
     "output_type": "execute_result"
    }
   ],
   "source": [
    "class FuntionalList():\n",
    "    def __init__(self, values = None):\n",
    "        if values is None:\n",
    "            self.values = []\n",
    "        else:\n",
    "            self.values = values\n",
    "    def __len__(self):\n",
    "        return len(self.values)\n",
    "    \n",
    "    def __getitem__(self, key):\n",
    "        if(type(key) == slice):\n",
    "            start = key.start\n",
    "            stop = key.stop + 1\n",
    "            #判断起始位置和终止位置的有效性\n",
    "            if key.stop ==None:\n",
    "                stop = -1\n",
    "            if key.start == None:\n",
    "                start = 0\n",
    "            return self.values[start:stop]\n",
    "        else:\n",
    "            return str(self.values[key])\n",
    "l1 = list(range(10))\n",
    "o1 = FuntionalList(l1)\n",
    "print(len(o1))\n",
    "o1[0:9]"
   ]
  },
  {
   "cell_type": "markdown",
   "metadata": {},
   "source": [
    "### 反射"
   ]
  },
  {
   "cell_type": "markdown",
   "metadata": {},
   "source": [
    "反射是指通过“字符串”对对象或类的属性进行操作"
   ]
  },
  {
   "cell_type": "code",
   "execution_count": 32,
   "metadata": {},
   "outputs": [
    {
     "data": {
      "text/plain": [
       "True"
      ]
     },
     "execution_count": 32,
     "metadata": {},
     "output_type": "execute_result"
    }
   ],
   "source": [
    "isinstance(l1, list)#isinstance 可以理解为一种反射"
   ]
  },
  {
   "cell_type": "code",
   "execution_count": 9,
   "metadata": {},
   "outputs": [
    {
     "name": "stdout",
     "output_type": "stream",
     "text": [
      "True\n",
      "True\n"
     ]
    }
   ],
   "source": [
    "class People():\n",
    "    country = 'China'\n",
    "    def __init__(self, name, age, sex):\n",
    "        self.name = name\n",
    "        self.age = age\n",
    "        self.sex = sex\n",
    "p = People('tank', 18, 'male')\n",
    "# 普通方式\n",
    "print('name' in p.__dict__)#在__init__中声明的变量，会存到实例的 __dict__中，__dict__中存储了对象的一些属性\n",
    "#hasatter\n",
    "print(hasattr(p, 'name'))"
   ]
  },
  {
   "cell_type": "code",
   "execution_count": 40,
   "metadata": {},
   "outputs": [
    {
     "name": "stdout",
     "output_type": "stream",
     "text": [
      "True\n"
     ]
    }
   ],
   "source": [
    "#setatter\n",
    "setattr(p, 'level', '5.0')\n",
    "print(hasattr(p, 'level'))"
   ]
  },
  {
   "cell_type": "code",
   "execution_count": 47,
   "metadata": {},
   "outputs": [
    {
     "name": "stdout",
     "output_type": "stream",
     "text": [
      "请输入命令: download\n",
      "正在下载....\n",
      "请输入命令: 0\n"
     ]
    }
   ],
   "source": [
    "#反射使用的应用实例\n",
    "class Movie:\n",
    "    \n",
    "    def input_cmd(self):       \n",
    "        while True:\n",
    "            cmd = input(\"请输入命令: \").strip()\n",
    "            if hasattr(self, cmd):\n",
    "                method = getattr(self, cmd)\n",
    "                method()\n",
    "            elif cmd =='0':\n",
    "                break  \n",
    "                \n",
    "    def upload(self):\n",
    "        print(\"正在上传....\")\n",
    "\n",
    "    def download(self):\n",
    "        print(\"正在下载....\")\n",
    "obj = Movie()\n",
    "obj.input_cmd()"
   ]
  },
  {
   "cell_type": "markdown",
   "metadata": {},
   "source": [
    "### 调用"
   ]
  },
  {
   "cell_type": "code",
   "execution_count": 49,
   "metadata": {},
   "outputs": [
    {
     "name": "stdout",
     "output_type": "stream",
     "text": [
      "1 5\n",
      "5 1\n"
     ]
    }
   ],
   "source": [
    "class callableInstance():\n",
    "    def __init__(self, x, y):\n",
    "        self.x, self.y = x, y\n",
    "        \n",
    "    def __call__(self,):\n",
    "        self.x, self.y = self.y , self.x#调用时交换一下\n",
    "        \n",
    "c1 = callableInstance(1, 5)\n",
    "print(c1.x, c1.y)\n",
    "c1()#触动 __call__进行自动调用\n",
    "print(c1.x, c1.y)"
   ]
  },
  {
   "cell_type": "code",
   "execution_count": null,
   "metadata": {
    "collapsed": true
   },
   "outputs": [],
   "source": []
  }
 ],
 "metadata": {
  "kernelspec": {
   "display_name": "Python 3",
   "language": "python",
   "name": "python3"
  },
  "language_info": {
   "codemirror_mode": {
    "name": "ipython",
    "version": 3
   },
   "file_extension": ".py",
   "mimetype": "text/x-python",
   "name": "python",
   "nbconvert_exporter": "python",
   "pygments_lexer": "ipython3",
   "version": "3.7.3"
  }
 },
 "nbformat": 4,
 "nbformat_minor": 2
}
