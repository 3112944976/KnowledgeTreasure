{
 "cells": [
  {
   "cell_type": "code",
   "execution_count": 3,
   "metadata": {},
   "outputs": [
    {
     "name": "stderr",
     "output_type": "stream",
     "text": [
      "D:\\Anaconda3\\lib\\site-packages\\pyecharts\\charts\\chart.py:14: PendingDeprecationWarning: pyecharts 所有图表类型将在 v1.9.0 版本开始强制使用 ChartItem 进行数据项配置 :)\n",
      "  super().__init__(init_opts=init_opts)\n"
     ]
    }
   ],
   "source": [
    "import pandas as pd\n",
    "import numpy as np\n",
    "from pyecharts import options as opts\n",
    "from pyecharts.charts import Bar3D\n",
    "\n",
    "obj1 = pd.read_csv('支出法国内生产总值.csv')\n",
    "obj2 = obj1.set_index(obj1['年份'])\n",
    "obj3 = pd.DataFrame(obj2,columns=obj2.columns[1:7])\n",
    "\n",
    "data = []\n",
    "for i in obj3.index:\n",
    "    for j in obj3.columns:\n",
    "        data.append((i,j,round(obj3[j][i]/1000,1)))\n",
    "\n",
    "c = (\n",
    "    Bar3D()\n",
    "    .add(\n",
    "        \"项目分年GDP指数\",\n",
    "        data,\n",
    "        xaxis3d_opts=opts.Axis3DOpts(obj3.index, type_=\"category\"),\n",
    "        yaxis3d_opts=opts.Axis3DOpts(obj3.columns, type_=\"category\"),\n",
    "        zaxis3d_opts=opts.Axis3DOpts(type_=\"value\"),\n",
    "    )\n",
    "    .set_global_opts(visualmap_opts=opts.VisualMapOpts(max_=1000),title_opts=opts.TitleOpts(title=\"支出计量法GDP可视化\"))\n",
    "    .render(\"bar3d_base.html\")\n",
    ")"
   ]
  },
  {
   "cell_type": "code",
   "execution_count": null,
   "metadata": {},
   "outputs": [],
   "source": []
  }
 ],
 "metadata": {
  "kernelspec": {
   "display_name": "Python 3",
   "language": "python",
   "name": "python3"
  },
  "language_info": {
   "codemirror_mode": {
    "name": "ipython",
    "version": 3
   },
   "file_extension": ".py",
   "mimetype": "text/x-python",
   "name": "python",
   "nbconvert_exporter": "python",
   "pygments_lexer": "ipython3",
   "version": "3.7.3"
  }
 },
 "nbformat": 4,
 "nbformat_minor": 2
}
