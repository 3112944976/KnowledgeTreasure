{
 "cells": [
  {
   "cell_type": "code",
   "execution_count": 22,
   "metadata": {
    "scrolled": true
   },
   "outputs": [
    {
     "ename": "SyntaxError",
     "evalue": "keyword argument repeated (<ipython-input-22-7ae442468752>, line 36)",
     "output_type": "error",
     "traceback": [
      "\u001b[1;36m  File \u001b[1;32m\"<ipython-input-22-7ae442468752>\"\u001b[1;36m, line \u001b[1;32m36\u001b[0m\n\u001b[1;33m    xaxis_opts=opts.AxisOpts(type_=\"category\", boundary_gap=False),\u001b[0m\n\u001b[1;37m    ^\u001b[0m\n\u001b[1;31mSyntaxError\u001b[0m\u001b[1;31m:\u001b[0m keyword argument repeated\n"
     ]
    }
   ],
   "source": [
    "import pyecharts.options as opts\n",
    "from pyecharts.charts import Line\n",
    "from pyecharts.globals import ThemeType\n",
    "import pandas as pd\n",
    "import numpy as np\n",
    "\n",
    "obj1 = pd.read_csv(r'C:\\Users\\1700\\Desktop\\人口\\源数据\\人口\\人口出生率、死亡率和自然增长率.csv')\n",
    "obj1 = obj1.sort_values('年份',ascending=True)\n",
    "x = [str(i)+'年' for i in obj1['年份'].tolist()]\n",
    "y1 = obj1['人口出生率'].tolist()\n",
    "y2 = obj1['人口死亡率'].tolist()\n",
    "y3 = obj1['人口自然增长率'].tolist()\n",
    "\n",
    "c = (\n",
    "    Line(init_opts=opts.InitOpts(width=\"1100px\", height=\"520px\",theme=ThemeType.VINTAGE))\n",
    "    .add_xaxis(x)\n",
    "    .add_yaxis(\"人口出生率\", y1, is_smooth=True,\n",
    "               markline_opts=opts.MarkLineOpts(data=[opts.MarkLineItem(type_=\"average\", name=\"平均值\")])\n",
    "              )\n",
    "    .add_yaxis(\"人口死亡率\", y2, is_smooth=True,\n",
    "               markline_opts=opts.MarkLineOpts(data=[opts.MarkLineItem(type_=\"average\", name=\"平均值\")])\n",
    "              )\n",
    "    .add_yaxis(\"人口自然增长率\", y3, is_smooth=True,\n",
    "               markline_opts=opts.MarkLineOpts(data=[opts.MarkLineItem(type_=\"average\", name=\"平均值\")])\n",
    "              )\n",
    "    .set_global_opts(title_opts=opts.TitleOpts(title=\"人口出生/死亡及自然增长率\"),\n",
    "                     yaxis_opts=opts.AxisOpts(\n",
    "                         axislabel_opts=opts.LabelOpts(formatter=\"{value} %\"),interval=10,name=\"\",min_=0,max_=15),\n",
    "                         tooltip_opts=opts.TooltipOpts(trigger=\"axis\"),\n",
    "                        toolbox_opts=opts.ToolboxOpts(is_show=True),\n",
    "                        xaxis_opts=opts.AxisOpts(type_=\"category\", boundary_gap=False),\n",
    "                    )\n",
    ")\n",
    "c.render(\"人口增长率(静态折线图).html\")"
   ]
  },
  {
   "cell_type": "code",
   "execution_count": null,
   "metadata": {},
   "outputs": [],
   "source": []
  }
 ],
 "metadata": {
  "kernelspec": {
   "display_name": "Python 3",
   "language": "python",
   "name": "python3"
  },
  "language_info": {
   "codemirror_mode": {
    "name": "ipython",
    "version": 3
   },
   "file_extension": ".py",
   "mimetype": "text/x-python",
   "name": "python",
   "nbconvert_exporter": "python",
   "pygments_lexer": "ipython3",
   "version": "3.7.3"
  }
 },
 "nbformat": 4,
 "nbformat_minor": 2
}
