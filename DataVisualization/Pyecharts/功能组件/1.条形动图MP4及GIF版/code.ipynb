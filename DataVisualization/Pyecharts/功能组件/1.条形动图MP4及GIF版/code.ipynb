{
 "cells": [
  {
   "cell_type": "code",
   "execution_count": 2,
   "metadata": {},
   "outputs": [
    {
     "name": "stderr",
     "output_type": "stream",
     "text": [
      "D:\\Anaconda3\\lib\\site-packages\\bar_chart_race\\_make_chart.py:286: UserWarning: FixedFormatter should only be used together with FixedLocator\n",
      "  ax.set_yticklabels(self.df_values.columns)\n",
      "D:\\Anaconda3\\lib\\site-packages\\bar_chart_race\\_make_chart.py:287: UserWarning: FixedFormatter should only be used together with FixedLocator\n",
      "  ax.set_xticklabels([max_val] * len(ax.get_xticks()))\n"
     ]
    }
   ],
   "source": [
    "import pandas as pd\n",
    "import numpy as np\n",
    "import seaborn as sns\n",
    "import bar_chart_race as bcr\n",
    "import matplotlib as mpl\n",
    "import matplotlib.pyplot as plt\n",
    "\n",
    "from pyecharts import options as opts \n",
    "from pyecharts.charts import Bar, Line, Page,Pie, Boxplot\n",
    "from pyecharts.globals import ChartType, SymbolType,ThemeType\n",
    "from pyecharts.commons.utils import JsCode\n",
    "\n",
    "%matplotlib inline\n",
    "plt.rcParams['font.sans-serif']=['SimHei'] #显示中文标签\n",
    "plt.rcParams['font.serif'] = ['KaiTi']\n",
    "plt.rcParams['axes.unicode_minus'] = False\n",
    "\n",
    "tmp = r'C:\\Users\\1700\\Desktop\\信息可视化\\源数据\\国家统计局分省年度数据\\国民经济核算\\居民消费水平.csv'\n",
    "obj1 = pd.read_csv(tmp)\n",
    "obj2 = obj1[~obj1['年份'].isin([2018,2019])]#选取含有指定值的行从表中删除：~\n",
    "obj3 = obj2.reset_index(drop=True)\n",
    "bj = obj3.loc[obj3['省份'] == '北京市']\n",
    "\n",
    "x = np.array(bj['年份'])[::-1]\n",
    "# y_1 = np.array(obj3['省份'][::-1])\n",
    "# y = list(set(y_1))\n",
    "\n",
    "tmp1 = 0\n",
    "tmp2 = []\n",
    "for i in range(0,31):\n",
    "    tmp2.append(obj2['省份'].tolist()[tmp1])\n",
    "    tmp1 += 18\n",
    "\n",
    "z = np.array(obj3['居民消费水平(元)'])\n",
    "z_1 = []\n",
    "for i in range(0, len(z), 18):#18\n",
    "    z_1.append(z[i : i+18])#18\n",
    "z_1 = np.array(z_1)\n",
    "data = {}\n",
    "for (i,j) in zip(z_1,tmp2):\n",
    "    data[j] = i\n",
    "df = pd.DataFrame(data, columns = tmp2, index = x )\n",
    "\n",
    "bcr.bar_chart_race(df\n",
    "                   ,'test.mp4'\n",
    "                   ,n_bars=10\n",
    "                   ,dpi=500\n",
    "                   #,period_fmt='%Y'#时间标签格式设置\n",
    "                   ,bar_label_size=4\n",
    "                   ,tick_label_size=4\n",
    "                   ,steps_per_period=100 # 图像帧数。数值越小，越不流畅。越大，越流畅。\n",
    "                   ,period_length=900#越大越慢\n",
    "                   ,perpendicular_bar_func='mean'\n",
    "                   #,fixed_order=True #设置固定类目\n",
    "                   ,title='Consumption level of Chinese Residents'\n",
    "                   ,cmap='accent'\n",
    "                   ,filter_column_colors=True\n",
    "                   #,bar_kwargs={'alpha': .2, 'ec': 'tomato', 'lw': 3}#条形图属性，可以设置透明度，边框等\n",
    "                  )\n",
    "# Page.add(bcr)\n",
    "# Page.render(\"test.html\")"
   ]
  },
  {
   "cell_type": "code",
   "execution_count": null,
   "metadata": {},
   "outputs": [],
   "source": []
  }
 ],
 "metadata": {
  "kernelspec": {
   "display_name": "Python 3",
   "language": "python",
   "name": "python3"
  },
  "language_info": {
   "codemirror_mode": {
    "name": "ipython",
    "version": 3
   },
   "file_extension": ".py",
   "mimetype": "text/x-python",
   "name": "python",
   "nbconvert_exporter": "python",
   "pygments_lexer": "ipython3",
   "version": "3.7.3"
  }
 },
 "nbformat": 4,
 "nbformat_minor": 2
}
