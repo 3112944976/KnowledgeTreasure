{
 "cells": [
  {
   "cell_type": "markdown",
   "metadata": {},
   "source": [
    "# （三） 函数"
   ]
  },
  {
   "cell_type": "markdown",
   "metadata": {},
   "source": [
    "- 了解函数的意义，掌握函数的创建及使用\n",
    "- 函数的参数\n",
    "- 偏函数，匿名\n",
    "- 高阶函数\n",
    "- BIFS中map(), reduce(), filter()\n",
    "- 变量作用域(生命周期)\n",
    "- 闭包、装饰器、函数式编程"
   ]
  },
  {
   "cell_type": "markdown",
   "metadata": {},
   "source": [
    "## python 中的函数"
   ]
  },
  {
   "cell_type": "code",
   "execution_count": null,
   "metadata": {
    "collapsed": true
   },
   "outputs": [],
   "source": [
    "#函数的意义： 模块化\n",
    "n  = 5\n",
    "for i in range(n):\n",
    "    print(i)\n",
    "\n",
    "def foo():\n",
    "    n  = 5\n",
    "    for i in range(n):\n",
    "        print(i)"
   ]
  },
  {
   "cell_type": "code",
   "execution_count": 4,
   "metadata": {},
   "outputs": [
    {
     "data": {
      "text/plain": [
       "105"
      ]
     },
     "execution_count": 4,
     "metadata": {},
     "output_type": "execute_result"
    }
   ],
   "source": [
    "# 函数定义\n",
    "def fool(num): #函数的参数列表（形式参数）\n",
    "    #函数体\n",
    "    cumsum = 0 \n",
    "    for i in range(num):\n",
    "        cumsum +=i #函数内部的变量\n",
    "    return cumsum\n",
    "\n",
    "\n",
    "fool(15)#函数调用--传入实参\n"
   ]
  },
  {
   "cell_type": "code",
   "execution_count": 5,
   "metadata": {},
   "outputs": [
    {
     "name": "stdout",
     "output_type": "stream",
     "text": [
      "stay up up up !\n"
     ]
    }
   ],
   "source": [
    "def showinfo():\n",
    "    print(\"stay up up up !\")\n",
    "showinfo()"
   ]
  },
  {
   "cell_type": "code",
   "execution_count": 6,
   "metadata": {},
   "outputs": [
    {
     "data": {
      "text/plain": [
       "(105, 210)"
      ]
     },
     "execution_count": 6,
     "metadata": {},
     "output_type": "execute_result"
    }
   ],
   "source": [
    "def foo3():\n",
    "    cumsum = 0\n",
    "    for i in range(15):\n",
    "        cumsum +=i\n",
    "    return cumsum, cumsum*2\n",
    "foo3()"
   ]
  },
  {
   "cell_type": "code",
   "execution_count": 13,
   "metadata": {},
   "outputs": [
    {
     "name": "stdout",
     "output_type": "stream",
     "text": [
      "<class 'function'>\n"
     ]
    }
   ],
   "source": [
    "#函数的返回： return  and  yield\n",
    "def foo3():\n",
    "    return 'this is first return'\n",
    "    return 'this is second return'\n",
    "foo3()\n",
    "print(type(foo3))"
   ]
  },
  {
   "cell_type": "code",
   "execution_count": 14,
   "metadata": {},
   "outputs": [
    {
     "name": "stdout",
     "output_type": "stream",
     "text": [
      "<generator object foo at 0x00000000060D6570>\n",
      "<class 'generator'>\n",
      "starting...\n",
      "4\n",
      "********************\n",
      "res: None\n",
      "4\n",
      "********************\n",
      "res: None\n",
      "4\n"
     ]
    }
   ],
   "source": [
    "#yield:\n",
    "# 1. 首先等价于return,同时还有返回断点的记忆\n",
    "# 2. 是一种生成器，需要通过next进行调用\n",
    "# 3. 带有yield就类似一个递归函数\n",
    "def foo():\n",
    "    print(\"starting...\")\n",
    "    while True:\n",
    "        res = yield 4#yield  == return \n",
    "        print(\"res:\", res)\n",
    "\n",
    "print(foo())\n",
    "print(type(foo()))\n",
    "g = foo()\n",
    "print(next(g))\n",
    "print(\"*\"*20)\n",
    "print(next(g))\n",
    "print(\"*\"*20)\n",
    "print(next(g))"
   ]
  },
  {
   "cell_type": "markdown",
   "metadata": {
    "collapsed": true
   },
   "source": [
    "## 函数的参数"
   ]
  },
  {
   "cell_type": "code",
   "execution_count": 3,
   "metadata": {},
   "outputs": [
    {
     "name": "stdout",
     "output_type": "stream",
     "text": [
      "公司名 hello 公司网址 hello\n",
      "公司名 hello 公司网址 htttp://www.hello.com\n"
     ]
    }
   ],
   "source": [
    "#按参数传递方式\n",
    "#位置参数\n",
    "def foo3(companyname, websiteUrl):\n",
    "    print('公司名',companyname, \"公司网址\",websiteUrl)\n",
    "foo3('hello', 'hello')\n",
    "foo3('hello', websiteUrl ='htttp://www.hello.com' )"
   ]
  },
  {
   "cell_type": "code",
   "execution_count": 8,
   "metadata": {},
   "outputs": [
    {
     "name": "stdout",
     "output_type": "stream",
     "text": [
      "公司名 hello 公司网址 hello intro: 专注AI教育\n"
     ]
    }
   ],
   "source": [
    "#关键字参数\n",
    "def foo4(companyname, websiteUrl, intro=\"专注教育\"):\n",
    "    print('公司名',companyname, \"公司网址\",websiteUrl, \"intro:\", intro)\n",
    "foo4('hello', 'hello', intro=\"专注AI教育\")"
   ]
  },
  {
   "cell_type": "code",
   "execution_count": 10,
   "metadata": {},
   "outputs": [
    {
     "ename": "TypeError",
     "evalue": "mysuml() takes 3 positional arguments but 4 were given",
     "output_type": "error",
     "traceback": [
      "\u001b[1;31m---------------------------------------------------------------------------\u001b[0m",
      "\u001b[1;31mTypeError\u001b[0m                                 Traceback (most recent call last)",
      "\u001b[1;32m<ipython-input-10-ceb64d2a307f>\u001b[0m in \u001b[0;36m<module>\u001b[1;34m()\u001b[0m\n\u001b[0;32m      3\u001b[0m \u001b[1;32mdef\u001b[0m \u001b[0mmysuml\u001b[0m\u001b[1;33m(\u001b[0m\u001b[0ma\u001b[0m\u001b[1;33m,\u001b[0m\u001b[0mb\u001b[0m\u001b[1;33m,\u001b[0m\u001b[0mc\u001b[0m\u001b[1;33m)\u001b[0m\u001b[1;33m:\u001b[0m\u001b[1;33m\u001b[0m\u001b[0m\n\u001b[0;32m      4\u001b[0m     \u001b[1;32mreturn\u001b[0m \u001b[0ma\u001b[0m\u001b[1;33m+\u001b[0m\u001b[0mb\u001b[0m\u001b[1;33m+\u001b[0m\u001b[0mc\u001b[0m\u001b[1;33m\u001b[0m\u001b[0m\n\u001b[1;32m----> 5\u001b[1;33m \u001b[0mmysuml\u001b[0m\u001b[1;33m(\u001b[0m\u001b[1;36m1\u001b[0m\u001b[1;33m,\u001b[0m\u001b[1;36m2\u001b[0m\u001b[1;33m,\u001b[0m\u001b[1;36m3\u001b[0m\u001b[1;33m,\u001b[0m\u001b[1;36m4\u001b[0m\u001b[1;33m)\u001b[0m\u001b[1;33m\u001b[0m\u001b[0m\n\u001b[0m",
      "\u001b[1;31mTypeError\u001b[0m: mysuml() takes 3 positional arguments but 4 were given"
     ]
    }
   ],
   "source": [
    "# 如果想一次传入不定长度的位置参数如何处理？\n",
    "\n",
    "def mysuml(a,b,c):\n",
    "    return a+b+c\n",
    "mysuml(1,2,3,4)"
   ]
  },
  {
   "cell_type": "code",
   "execution_count": 11,
   "metadata": {},
   "outputs": [
    {
     "name": "stdout",
     "output_type": "stream",
     "text": [
      "<class 'tuple'>\n",
      "10\n"
     ]
    }
   ],
   "source": [
    "#上面问题需要使用包裹进行接收\n",
    "def mysuml2(*args): #位置参数包裹\n",
    "    print(type(args))\n",
    "    return sum(args)\n",
    "print(mysuml2(1,2,3,4))"
   ]
  },
  {
   "cell_type": "code",
   "execution_count": 14,
   "metadata": {},
   "outputs": [
    {
     "name": "stdout",
     "output_type": "stream",
     "text": [
      "<class 'dict'>\n",
      "film : 秀秀贴钱\n",
      "box : 3.5\n",
      "<class 'dict'>\n",
      "film : 秀秀贴钱\n",
      "box : 3.5\n",
      "rate : 9\n"
     ]
    }
   ],
   "source": [
    "#同理如果想要一次性传入不定长的关键字参数，也可以使用包裹进行接收\n",
    "#关键字参数包裹 使用 **\n",
    "def filmInfo(**kwargs):\n",
    "    print(type(kwargs))\n",
    "    for key, values in kwargs.items():\n",
    "        print(key,\":\", values)\n",
    "filmInfo(film='秀秀贴钱' ,box = 3.5)\n",
    "filmInfo(film='秀秀贴钱' ,box = 3.5, rate=9)"
   ]
  },
  {
   "cell_type": "code",
   "execution_count": 18,
   "metadata": {},
   "outputs": [
    {
     "name": "stdout",
     "output_type": "stream",
     "text": [
      "----------------------\n",
      "个人信息: aa 22\n",
      "大一\n",
      "9902\n",
      "课程信息： python\n",
      "lesson1 88\n",
      "lesson2 99\n",
      "----------------------\n",
      "个人信息: aa 22\n",
      "大一\n",
      "9902\n",
      "课程信息： python111\n",
      "lesson1 88\n",
      "lesson2 99\n"
     ]
    }
   ],
   "source": [
    "#包裹解包顺序\n",
    "#首先拆位置参数包裹，按照顺序进行解包\n",
    "#然后在对关键字参数包裹解包\n",
    "def scoreReport(name, age, *args, course='python', **kwargs):\n",
    "    print(\"----------------------\")\n",
    "    print(\"个人信息:\", name , age)\n",
    "    for item in args:\n",
    "        print(item)\n",
    "    print(\"课程信息：\", course)\n",
    "    for key, value in kwargs.items():\n",
    "        print(key, value)\n",
    "scoreReport(\"aa\", 22, '大一', '9902', lesson1=88, lesson2 =99)\n",
    "scoreReport(\"aa\", 22, '大一', '9902',course='python111', lesson1=88, lesson2 =99)"
   ]
  },
  {
   "cell_type": "code",
   "execution_count": 20,
   "metadata": {},
   "outputs": [
    {
     "name": "stdout",
     "output_type": "stream",
     "text": [
      "<class 'tuple'>\n"
     ]
    },
    {
     "data": {
      "text/plain": [
       "28"
      ]
     },
     "execution_count": 20,
     "metadata": {},
     "output_type": "execute_result"
    }
   ],
   "source": [
    "#\n",
    "l1 = [1,2,3,4,5,6,7]\n",
    "mysuml2(*l1)"
   ]
  },
  {
   "cell_type": "code",
   "execution_count": 22,
   "metadata": {},
   "outputs": [
    {
     "name": "stdout",
     "output_type": "stream",
     "text": [
      "[(1, 2), (3, 4)]\n"
     ]
    },
    {
     "data": {
      "text/plain": [
       "[(1, 2), (3, 4)]"
      ]
     },
     "execution_count": 22,
     "metadata": {},
     "output_type": "execute_result"
    }
   ],
   "source": [
    "l1 = [(1,3), (2,4)]\n",
    "print(list(zip(l1[0], l1[1])))\n",
    "list(zip(*l1))"
   ]
  },
  {
   "cell_type": "code",
   "execution_count": 24,
   "metadata": {},
   "outputs": [
    {
     "name": "stdout",
     "output_type": "stream",
     "text": [
      "<class 'dict'>\n",
      "xiuxiutiequan : 6.6\n",
      "tianshen : 3.1\n",
      "zhanlang : 9.9\n"
     ]
    }
   ],
   "source": [
    "#传递关键字型包裹\n",
    "d1 ={'xiuxiutiequan':6.6, 'tianshen':3.1, 'zhanlang':9.9}\n",
    "filmInfo(**d1)"
   ]
  },
  {
   "cell_type": "code",
   "execution_count": 26,
   "metadata": {},
   "outputs": [
    {
     "name": "stdout",
     "output_type": "stream",
     "text": [
      "before reference 7 hello\n",
      "In fool a, b has changed to : 8 hello.com\n",
      "after reference 7 hello\n"
     ]
    }
   ],
   "source": [
    "#值传递->实参本身是不会被修改的\n",
    "a = 7\n",
    "b = 'hello'\n",
    "\n",
    "print(\"before reference\", a,b)\n",
    "def fool(c,d):\n",
    "    c += 1\n",
    "    d += '.com'\n",
    "    print(\"In fool a, b has changed to :\", c,d)\n",
    "    \n",
    "fool(a,b)\n",
    "print(\"after reference\", a,b)"
   ]
  },
  {
   "cell_type": "code",
   "execution_count": 31,
   "metadata": {},
   "outputs": [
    {
     "name": "stdout",
     "output_type": "stream",
     "text": [
      "before reference [1, 2, 3] {'name': 'Tom'}\n",
      "before reference id: 102083336 99772672\n",
      "after reference [1, 2] {'name': 'Tom', 'age': 22}\n",
      "before reference id: 102083336 99772672\n"
     ]
    }
   ],
   "source": [
    "#指针传递参数->实参就会被修改\n",
    "l1 = [1,2,3]\n",
    "d1 = {'name': 'Tom'}\n",
    "def foo2(a, b):\n",
    "    a.pop()\n",
    "    b['age'] = 22\n",
    "print(\"before reference\", l1, d1)\n",
    "print(\"before reference id:\", id(l1), id(d1))\n",
    "foo2(l1, d1)\n",
    "print(\"after reference\", l1, d1)\n",
    "print(\"before reference id:\", id(l1), id(d1))"
   ]
  },
  {
   "cell_type": "markdown",
   "metadata": {},
   "source": [
    "### 变量作用域"
   ]
  },
  {
   "cell_type": "code",
   "execution_count": 33,
   "metadata": {},
   "outputs": [
    {
     "name": "stdout",
     "output_type": "stream",
     "text": [
      "www.aaaa.com\n"
     ]
    }
   ],
   "source": [
    "#全局变量\n",
    "websit='hello.com'\n",
    "companyName = 'hello'\n",
    "list1 = [7,2.5, 'hello.com']\n",
    "\n",
    "def getWebsite():\n",
    "\n",
    "#     print(websit)\n",
    "    websit = 'www.aaaa.com'\n",
    "    print(websit)\n",
    "    global websit\n",
    "    \n",
    "getWebsite()"
   ]
  },
  {
   "cell_type": "markdown",
   "metadata": {},
   "source": [
    "### 偏函数PFA"
   ]
  },
  {
   "cell_type": "code",
   "execution_count": 34,
   "metadata": {},
   "outputs": [
    {
     "data": {
      "text/plain": [
       "15"
      ]
     },
     "execution_count": 34,
     "metadata": {},
     "output_type": "execute_result"
    }
   ],
   "source": [
    "#partial function application\n",
    "#只设置了一部分的参数，同时会固定部分参数的值\n",
    "\n",
    "def hex2int(num):\n",
    "    return int(str(num), base=16)\n",
    "\n",
    "hex2int('f')"
   ]
  },
  {
   "cell_type": "code",
   "execution_count": 35,
   "metadata": {},
   "outputs": [
    {
     "data": {
      "text/plain": [
       "10"
      ]
     },
     "execution_count": 35,
     "metadata": {},
     "output_type": "execute_result"
    }
   ],
   "source": [
    "import functools\n",
    "hex2int2 = functools.partial(int, base=16)\n",
    "hex2int2('a')"
   ]
  },
  {
   "cell_type": "code",
   "execution_count": 38,
   "metadata": {},
   "outputs": [
    {
     "name": "stdout",
     "output_type": "stream",
     "text": [
      "100\n"
     ]
    },
    {
     "data": {
      "text/plain": [
       "functools.partial"
      ]
     },
     "execution_count": 38,
     "metadata": {},
     "output_type": "execute_result"
    }
   ],
   "source": [
    "#偏函数也可以固定位置参数\n",
    "max100 = functools.partial(max, 100)\n",
    "print(max100(99))\n",
    "type(max100)"
   ]
  },
  {
   "cell_type": "markdown",
   "metadata": {},
   "source": [
    "### 递归"
   ]
  },
  {
   "cell_type": "code",
   "execution_count": 39,
   "metadata": {},
   "outputs": [
    {
     "name": "stdout",
     "output_type": "stream",
     "text": [
      "1 >>>>>>\n",
      "[2, 31, 5, 6, 55]  > > > > > >\n",
      "2 >>>>>>\n",
      "[31, 5, 6, 55]  > > > > > >\n",
      "31 >>>>>>\n",
      "[5, 6, 55]  > > > > > >\n",
      "5 >>>>>>\n",
      "[6, 55]  > > > > > >\n",
      "6 >>>>>>\n",
      "[55]  > > > > > >\n"
     ]
    },
    {
     "data": {
      "text/plain": [
       "100"
      ]
     },
     "execution_count": 39,
     "metadata": {},
     "output_type": "execute_result"
    }
   ],
   "source": [
    "#列表中数值的累加\n",
    "def fool(num):\n",
    "    if len(num ) ==1:\n",
    "        return num[0]\n",
    "    else:\n",
    "        print(num[0], \">\" *6)\n",
    "        print(num[1:],' >'*6)\n",
    "        return num[0]+ fool(num[1:])\n",
    "    \n",
    "fool([1,2,31,5,6,55])"
   ]
  },
  {
   "cell_type": "code",
   "execution_count": 7,
   "metadata": {},
   "outputs": [
    {
     "name": "stdout",
     "output_type": "stream",
     "text": [
      "i =  2 num: 60\n",
      "i =  2 num: 30\n",
      "i =  2 num: 15\n",
      "i =  3 num: 15\n",
      "i =  2 num: 5\n",
      "i =  3 num: 5\n",
      "i =  4 num: 5\n",
      "i =  5 num: 5\n",
      "60的质因数： [2, 2, 3, 5]\n",
      "5! =  120\n"
     ]
    }
   ],
   "source": [
    "#使用递归分解质因数\n",
    "l1 = []\n",
    "def fenji(num):\n",
    "    num = int(num)\n",
    "    \n",
    "    for i in range(2, num+1):\n",
    "        print(\"i = \",i ,\"num:\", num)\n",
    "        if num%i == 0:\n",
    "            l1.append(i)\n",
    "            nextv = int(num/i)\n",
    "            fenji(nextv)\n",
    "            break#\n",
    "    return l1\n",
    "print(\"60的质因数：\",fenji(60) )\n",
    "\n",
    "#阶乘\n",
    "def factorial(n):\n",
    "    if n == 1:\n",
    "        return 1\n",
    "    else:\n",
    "        return n*factorial(n-1)\n",
    "print(\"5! = \", factorial(5))"
   ]
  },
  {
   "cell_type": "markdown",
   "metadata": {
    "collapsed": true
   },
   "source": [
    "## 匿名函数 lambda"
   ]
  },
  {
   "cell_type": "code",
   "execution_count": 14,
   "metadata": {},
   "outputs": [
    {
     "name": "stdout",
     "output_type": "stream",
     "text": [
      "<class 'function'>\n",
      "11\n",
      "[('China', 15), ('India', 9), ('Japan', 1.5), ('USA', 2)]\n",
      "[('Japan', 1.5), ('USA', 2), ('India', 9), ('China', 15)]\n"
     ]
    }
   ],
   "source": [
    "#匿名函数\n",
    "print(type(lambda a,b: a*b))#定义函数体无序返回值\n",
    "\n",
    "foo = lambda x,y:x+y\n",
    "print(foo(5,6))\n",
    "\n",
    "#使用2：lambda关键字定义在高阶函数的参数位上\n",
    "d1 = {'China':15, 'India': 9, \"USA\":2, \"Japan\":1.5, \"India\":9}\n",
    "print(sorted(d1.items(),key = lambda x:(x[0], x[1]) ))\n",
    "print(sorted(d1.items(),key = lambda x:(x[1])))"
   ]
  },
  {
   "cell_type": "markdown",
   "metadata": {},
   "source": [
    "## 高阶函数"
   ]
  },
  {
   "cell_type": "code",
   "execution_count": 18,
   "metadata": {},
   "outputs": [
    {
     "name": "stdout",
     "output_type": "stream",
     "text": [
      "<built-in function abs> <built-in function abs>\n"
     ]
    },
    {
     "data": {
      "text/plain": [
       "5"
      ]
     },
     "execution_count": 18,
     "metadata": {},
     "output_type": "execute_result"
    }
   ],
   "source": [
    "#函数对象的引用 和调用\n",
    "#高阶函数就是参数可以接受函数\n",
    "num = -5\n",
    "a=b=c = abs\n",
    "print(abs, a)\n",
    "c(num)"
   ]
  },
  {
   "cell_type": "code",
   "execution_count": 24,
   "metadata": {},
   "outputs": [
    {
     "name": "stdout",
     "output_type": "stream",
     "text": [
      "69\n",
      "153\n",
      "[22, 33, 9, 69, 7, 8, 5]\n"
     ]
    }
   ],
   "source": [
    "#函数名本质就是一种变量\n",
    "def foo():\n",
    "    pass\n",
    "del foo\n",
    "\n",
    "def mycalucate(num, func):\n",
    "    return func(num)\n",
    "l1 = [5,8,7,69,9,33,22]\n",
    "print(mycalucate(l1, max))\n",
    "print(mycalucate(l1, sum))\n",
    "print(list(mycalucate(l1, reversed)))"
   ]
  },
  {
   "cell_type": "markdown",
   "metadata": {},
   "source": [
    "## 回调函数"
   ]
  },
  {
   "cell_type": "code",
   "execution_count": 25,
   "metadata": {},
   "outputs": [
    {
     "name": "stdout",
     "output_type": "stream",
     "text": [
      "<built-in function max>\n"
     ]
    }
   ],
   "source": [
    "#回调函数的作用：用于模块的解耦\n",
    "def callbackfunc(*num):\n",
    "    return max\n",
    "print(callbackfunc(55,5,77))"
   ]
  },
  {
   "cell_type": "code",
   "execution_count": 27,
   "metadata": {},
   "outputs": [
    {
     "name": "stdout",
     "output_type": "stream",
     "text": [
      "3\n",
      "5\n",
      "9\n"
     ]
    }
   ],
   "source": [
    "#回调函数例子：生成一个奇数\n",
    "\n",
    "#生成一个2k的偶数\n",
    "def double(x):\n",
    "    return x*2\n",
    "\n",
    "#生成一个4k的偶数\n",
    "def quardruple(x):\n",
    "    return x*4\n",
    "\n",
    "# 中间函数:接受一个生成偶数的函数作为参数，返回一个奇数\n",
    "def getOddNumber(k, getEventNumber):\n",
    "    return 1+ getEventNumber(k)\n",
    "\n",
    "def main():\n",
    "    k = 1\n",
    "    #2k+1\n",
    "    i= getOddNumber(k,double)\n",
    "    print(i)\n",
    "    #4k+1\n",
    "    i= getOddNumber(k,quardruple)\n",
    "    print(i)\n",
    "    #8k+1 \n",
    "    i = getOddNumber(k, lambda x:x*8)\n",
    "    print(i)\n",
    "\n",
    "main()"
   ]
  },
  {
   "cell_type": "markdown",
   "metadata": {},
   "source": [
    "## BIFs-高阶函数"
   ]
  },
  {
   "cell_type": "code",
   "execution_count": 31,
   "metadata": {},
   "outputs": [
    {
     "name": "stdout",
     "output_type": "stream",
     "text": [
      "True\n",
      "[61, 62]\n"
     ]
    },
    {
     "data": {
      "text/plain": [
       "['hello.com']"
      ]
     },
     "execution_count": 31,
     "metadata": {},
     "output_type": "execute_result"
    }
   ],
   "source": [
    "#filter\n",
    "#语法：filter（function, list）\n",
    "\n",
    "def myfilter(x):\n",
    "    if x>60:\n",
    "        return True\n",
    "    else:\n",
    "        return False\n",
    "print(myfilter(67))\n",
    "l1 = [1,59,61,62]\n",
    "print(list(filter(myfilter, l1)))#shift + tabe\n",
    "l1 = [2,3,5,7,9,'hello.com', [2,3,3,], 5,2]\n",
    "list(filter(lambda x:True if type(x) == str else False, l1))"
   ]
  },
  {
   "cell_type": "code",
   "execution_count": 33,
   "metadata": {},
   "outputs": [
    {
     "data": {
      "text/plain": [
       "[(2, 2),\n",
       " (3, 1),\n",
       " (5, 2),\n",
       " (7, 1),\n",
       " (9, 1),\n",
       " ('hello.com', 1),\n",
       " ([2, 3, 3], 1),\n",
       " (5, 2),\n",
       " (2, 2)]"
      ]
     },
     "execution_count": 33,
     "metadata": {},
     "output_type": "execute_result"
    }
   ],
   "source": [
    "#map\n",
    "#语法map（function, list）\n",
    "list(map(lambda x:(x, l1.count(x)), l1))\n",
    "#filter 和map不同点：filter是对原数组的过滤，map是对原数组的加工，映射成一组关系"
   ]
  },
  {
   "cell_type": "code",
   "execution_count": 34,
   "metadata": {},
   "outputs": [
    {
     "data": {
      "text/plain": [
       "36"
      ]
     },
     "execution_count": 34,
     "metadata": {},
     "output_type": "execute_result"
    }
   ],
   "source": [
    "#reduce：对参数序列中元素进行累积\n",
    "#语法reduce（function, list）\n",
    "from functools import reduce\n",
    "reduce(lambda a,b:a+b, [1,2,3,4,5,6,7,8])"
   ]
  },
  {
   "cell_type": "markdown",
   "metadata": {},
   "source": [
    "## 闭包"
   ]
  },
  {
   "cell_type": "code",
   "execution_count": 38,
   "metadata": {},
   "outputs": [
    {
     "name": "stdout",
     "output_type": "stream",
     "text": [
      "nums_in_function 在fool中，可以被访问 [5, 3, 8]\n",
      "nums_in_function 在fool中，可以被访问 [15, 2, 3, 9, 3.2]\n"
     ]
    },
    {
     "data": {
      "text/plain": [
       "15"
      ]
     },
     "execution_count": 38,
     "metadata": {},
     "output_type": "execute_result"
    }
   ],
   "source": [
    "num_in_global = [15, 2,3,9,3.2]\n",
    "\n",
    "def foo1(nums_in_function):\n",
    "    print(\"nums_in_function 在fool中，可以被访问\", nums_in_function)\n",
    "    def foo2():\n",
    "        return max(nums_in_function)\n",
    "    \n",
    "    return foo2\n",
    "\n",
    "foo1([5,3,8])()\n",
    "foo1(num_in_global)()\n",
    "# 简单理解闭包：函数记住其外层作用域的变量"
   ]
  },
  {
   "cell_type": "markdown",
   "metadata": {},
   "source": [
    "## 装饰器"
   ]
  },
  {
   "cell_type": "code",
   "execution_count": 39,
   "metadata": {},
   "outputs": [
    {
     "name": "stdout",
     "output_type": "stream",
     "text": [
      "this is foo2 function\n",
      "2021-01-14 10:27:23.324542\n"
     ]
    }
   ],
   "source": [
    "#\n",
    "import datetime\n",
    "def printtime():\n",
    "    print(datetime.datetime.now())\n",
    "\n",
    "def foo1():\n",
    "    print(\"this is foo1 function\")\n",
    "    printtime()\n",
    "\n",
    "def foo2():\n",
    "    print(\"this is foo2 function\")\n",
    "    printtime()\n",
    "    \n",
    "def foo3():\n",
    "    print(\"this is foo3 function\")\n",
    "    printtime()    \n",
    "foo2()"
   ]
  },
  {
   "cell_type": "code",
   "execution_count": 43,
   "metadata": {},
   "outputs": [
    {
     "name": "stdout",
     "output_type": "stream",
     "text": [
      "2021-01-14 10:30:48.737291\n",
      "this is foo3 function\n"
     ]
    }
   ],
   "source": [
    "def foo1():\n",
    "    print(\"this is foo1 function\")\n",
    "\n",
    "def foo2():\n",
    "    print(\"this is foo2 function\")\n",
    "    \n",
    "def foo3():\n",
    "    print(\"this is foo3 function\") \n",
    "\n",
    "def extrafoo(func):\n",
    "    printtime()\n",
    "    return func\n",
    "\n",
    "decorated = extrafoo(foo3)\n",
    "decorated()"
   ]
  },
  {
   "cell_type": "code",
   "execution_count": 46,
   "metadata": {},
   "outputs": [
    {
     "name": "stdout",
     "output_type": "stream",
     "text": [
      "from inner to execute: foo1\n",
      "the foo1 result: this is foo1 function--\n",
      "extra: 2021-01-14 10:57:15.852069\n"
     ]
    }
   ],
   "source": [
    "import datetime\n",
    "\n",
    "def extrafoo(func):\n",
    "    print(\"from inner to execute:\", func.__name__)\n",
    "    print(\"the\",func.__name__, 'result:', func())\n",
    "    print(\"extra:\", datetime.datetime.now())\n",
    "    \n",
    "@extrafoo #装饰器特性，被装饰的函数定义之后立即运行\n",
    "def foo1():\n",
    "    return \"this is foo1 function--\"\n",
    "# @ 是python装饰器的简便写法，也叫做语法糖\n",
    "# @extrafoo =》decorated = extrafoo(foo1) ;decorated()\n",
    "\n",
    "# foo1()"
   ]
  },
  {
   "cell_type": "code",
   "execution_count": null,
   "metadata": {
    "collapsed": true
   },
   "outputs": [],
   "source": []
  }
 ],
 "metadata": {
  "kernelspec": {
   "display_name": "Python 3",
   "language": "python",
   "name": "python3"
  },
  "language_info": {
   "codemirror_mode": {
    "name": "ipython",
    "version": 3
   },
   "file_extension": ".py",
   "mimetype": "text/x-python",
   "name": "python",
   "nbconvert_exporter": "python",
   "pygments_lexer": "ipython3",
   "version": "3.7.3"
  }
 },
 "nbformat": 4,
 "nbformat_minor": 2
}
