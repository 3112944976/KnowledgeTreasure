{
 "cells": [
  {
   "cell_type": "markdown",
   "metadata": {},
   "source": [
    "# 对Excel的读操作"
   ]
  },
  {
   "cell_type": "code",
   "execution_count": null,
   "metadata": {},
   "outputs": [],
   "source": [
    "import xlrd\n",
    " \n",
    "file_name = \"学生信息.xlsx\"\n",
    "file = xlrd.open_workbook(file_name)\n",
    "#file = xlrd.book.open_workbook_xls('file_name') \n",
    "\n",
    "# 输出Excel中表的个数\n",
    "print(file.nsheets)\n",
    "# 获取所有表格名字\n",
    "print(file.sheet_names())\n",
    "\n",
    "# 读取某张表\n",
    "#sheet = file.sheet_by_name(\"\")#通过名字获取表格\n",
    "sheet = file.sheet_by_index(0)#通过索引获取表格\n",
    "\n",
    "# 获取表的行数\n",
    "nrows = sheet.nrows\n",
    "# 获取表的列数\n",
    "ncols = sheet.ncols\n",
    "print(\"nrows: %d, ncols: %d\" % (nrows, ncols))\n",
    " \n",
    "# 获取某行某列的一个分量数据\n",
    "cell_value = sheet.cell_value(3, 0)\n",
    "print(cell_value)\n",
    " \n",
    "# 获取某一行或某一列的数据\n",
    "row_value = sheet.row_values(1)#获取行内容\n",
    "print(row_value)\n",
    "cols = sheet.col_values(3)#获取列内容\n",
    "print(cols)"
   ]
  },
  {
   "cell_type": "code",
   "execution_count": 1,
   "metadata": {},
   "outputs": [],
   "source": [
    "import xlrd"
   ]
  },
  {
   "cell_type": "markdown",
   "metadata": {},
   "source": [
    "## 获取工作簿对象"
   ]
  },
  {
   "cell_type": "code",
   "execution_count": 2,
   "metadata": {},
   "outputs": [],
   "source": [
    "file_name = \"学生信息.xlsx\"\n",
    "file = xlrd.open_workbook(file_name)\n",
    "#file = xlrd.book.open_workbook_xls('file_name')"
   ]
  },
  {
   "cell_type": "markdown",
   "metadata": {},
   "source": [
    "## 获取工作簿对象属性"
   ]
  },
  {
   "cell_type": "code",
   "execution_count": 3,
   "metadata": {},
   "outputs": [
    {
     "name": "stdout",
     "output_type": "stream",
     "text": [
      "2\n",
      "[<xlrd.sheet.Sheet object at 0x0000029FBA819EF0>, <xlrd.sheet.Sheet object at 0x0000029FBA819F28>]\n",
      "['数学1641', '大数据1841']\n"
     ]
    }
   ],
   "source": [
    "# 获取工作簿中sheet表数量\n",
    "print(file.nsheets)\n",
    "\n",
    "# 获取工作簿中所有sheet表对象\n",
    "sheets = file.sheets()\n",
    "print(sheets)\n",
    "\n",
    "# 获取工作簿所有sheet表对象名称\n",
    "sheets_name = file.sheet_names()\n",
    "print(sheets_name)"
   ]
  },
  {
   "cell_type": "markdown",
   "metadata": {},
   "source": [
    "## 读取指定的sheet对象表格"
   ]
  },
  {
   "cell_type": "code",
   "execution_count": 4,
   "metadata": {},
   "outputs": [],
   "source": [
    "#sheet = file.sheet_by_name(\"\")#通过名字获取表格\n",
    "sheet = file.sheet_by_index(0)#通过索引获取表格"
   ]
  },
  {
   "cell_type": "markdown",
   "metadata": {},
   "source": [
    "## 获取sheet表中行、列对象属性及值"
   ]
  },
  {
   "cell_type": "markdown",
   "metadata": {},
   "source": [
    "### 分量"
   ]
  },
  {
   "cell_type": "code",
   "execution_count": 6,
   "metadata": {},
   "outputs": [
    {
     "name": "stdout",
     "output_type": "stream",
     "text": [
      "text:'序号'\n",
      "序号\n",
      "1\n"
     ]
    }
   ],
   "source": [
    "# 获取sheet表单元格对象，返回：‘单元格数据类型：单元格值’\n",
    "cell_0 = sheet.cell(0,0)\n",
    "print(cell_0)\n",
    "# 获取sheet表单元格值\n",
    "cell_0_value = sheet.cell_value(0,0)\n",
    "print(cell_0_value)\n",
    "# 获取单元格类型\n",
    "cell_0_type = sheet.cell_type(0,0)\n",
    "print(cell_0_type)"
   ]
  },
  {
   "cell_type": "markdown",
   "metadata": {},
   "source": [
    "### 行操作"
   ]
  },
  {
   "cell_type": "code",
   "execution_count": 11,
   "metadata": {},
   "outputs": [
    {
     "name": "stdout",
     "output_type": "stream",
     "text": [
      "43\n",
      "7\n",
      "[text:'序号', text:'姓名', text:'性别', text:'身份证号', text:'班级', text:'身份证准确校验', text:'情况说明']\n",
      "[text:'序号']\n",
      "array('B', [1, 1, 1, 1, 1, 1, 1])\n",
      "['序号', '姓名', '性别', '身份证号', '班级', '身份证准确校验', '情况说明']\n"
     ]
    }
   ],
   "source": [
    "# 获取sheet表对象有效行数\n",
    "row_sum = sheet.nrows\n",
    "print(row_sum)\n",
    "# 获取sheet表某一行长度\n",
    "row_len = sheet.row_len(0)\n",
    "print(row_len)\n",
    "# 获取sheet表某一行所有数据类型及值\n",
    "row_0 = sheet.row(0)\n",
    "print(row_0)\n",
    "# 获取某一行对象数据类型、值，可指定开始结束列\n",
    "row_0_s = sheet.row_slice(0,0,1)\n",
    "print(row_0_s)\n",
    "# 获取sheet表对象某一行数据类型,返回一个数组对象\n",
    "row_0_type = sheet.row_types(0)\n",
    "print(row_0_type)\n",
    "# 获取sheet表对象某一行数据值\n",
    "row_0_value = sheet.row_values(0)\n",
    "print(row_0_value)"
   ]
  },
  {
   "cell_type": "code",
   "execution_count": 16,
   "metadata": {},
   "outputs": [],
   "source": [
    "#获取sheet表所有行（获得一个生成器）：\n",
    "    #获得sheet对象所有行对象生成器\n",
    "rows = sheet.get_rows()\n",
    "print(rows)\n",
    "for row in rows:\n",
    "    print(row)"
   ]
  },
  {
   "cell_type": "markdown",
   "metadata": {},
   "source": [
    "### 列操作"
   ]
  },
  {
   "cell_type": "code",
   "execution_count": 23,
   "metadata": {},
   "outputs": [
    {
     "name": "stdout",
     "output_type": "stream",
     "text": [
      "7\n",
      "text:'序号'\n",
      "['序号', '\\xa0\\xa0\\xa0\\xa0\\xa0\\xa0\\xa0 1\\xa0\\xa0 \\xa0', '\\xa0\\xa0\\xa0\\xa0\\xa0\\xa0\\xa0 2\\xa0\\xa0 \\xa0', '\\xa0\\xa0\\xa0\\xa0\\xa0\\xa0\\xa0 3\\xa0\\xa0 \\xa0', '\\xa0\\xa0\\xa0\\xa0\\xa0\\xa0\\xa0 4\\xa0\\xa0 \\xa0', '\\xa0\\xa0\\xa0\\xa0\\xa0\\xa0\\xa0 5\\xa0\\xa0 \\xa0', '\\xa0\\xa0\\xa0\\xa0\\xa0\\xa0\\xa0 6\\xa0\\xa0 \\xa0', '\\xa0\\xa0\\xa0\\xa0\\xa0\\xa0\\xa0 7\\xa0\\xa0 \\xa0', '\\xa0\\xa0\\xa0\\xa0\\xa0\\xa0\\xa0 8\\xa0\\xa0 \\xa0', '\\xa0\\xa0\\xa0\\xa0\\xa0\\xa0\\xa0 9\\xa0\\xa0 \\xa0', '\\xa0\\xa0\\xa0\\xa0\\xa0 10 \\xa0', '\\xa0\\xa0\\xa0\\xa0\\xa0 11 \\xa0', '\\xa0\\xa0\\xa0\\xa0\\xa0 12 \\xa0', '\\xa0\\xa0\\xa0\\xa0\\xa0 13 \\xa0', '\\xa0\\xa0\\xa0\\xa0\\xa0 14 \\xa0', '\\xa0\\xa0\\xa0\\xa0\\xa0 15 \\xa0', '\\xa0\\xa0\\xa0\\xa0\\xa0 16 \\xa0', '\\xa0\\xa0\\xa0\\xa0\\xa0 17 \\xa0', '\\xa0\\xa0\\xa0\\xa0\\xa0 18 \\xa0', '\\xa0\\xa0\\xa0\\xa0\\xa0 19 \\xa0', '\\xa0\\xa0\\xa0\\xa0\\xa0 20 \\xa0', '\\xa0\\xa0\\xa0\\xa0\\xa0 21 \\xa0', '\\xa0\\xa0\\xa0\\xa0\\xa0 22 \\xa0', '\\xa0\\xa0\\xa0\\xa0\\xa0 23 \\xa0', '\\xa0\\xa0\\xa0\\xa0\\xa0 24 \\xa0', '\\xa0\\xa0\\xa0\\xa0\\xa0 25 \\xa0', '\\xa0\\xa0\\xa0\\xa0\\xa0 26 \\xa0', '\\xa0\\xa0\\xa0\\xa0\\xa0 27 \\xa0', '\\xa0\\xa0\\xa0\\xa0\\xa0 28 \\xa0', '\\xa0\\xa0\\xa0\\xa0\\xa0 29 \\xa0', '\\xa0\\xa0\\xa0\\xa0\\xa0 30 \\xa0', '\\xa0\\xa0\\xa0\\xa0\\xa0 31 \\xa0', '\\xa0\\xa0\\xa0\\xa0\\xa0 32 \\xa0', '\\xa0\\xa0\\xa0\\xa0\\xa0 33 \\xa0', '\\xa0\\xa0\\xa0\\xa0\\xa0 34 \\xa0', '\\xa0\\xa0\\xa0\\xa0\\xa0 35 \\xa0', '\\xa0\\xa0\\xa0\\xa0\\xa0 36 \\xa0', '\\xa0\\xa0\\xa0\\xa0\\xa0 37 \\xa0', '\\xa0\\xa0\\xa0\\xa0\\xa0 38 \\xa0', '\\xa0\\xa0\\xa0\\xa0\\xa0 39 \\xa0', '\\xa0\\xa0\\xa0\\xa0\\xa0 40 \\xa0', '\\xa0\\xa0\\xa0\\xa0\\xa0 41 \\xa0', '\\xa0\\xa0\\xa0\\xa0\\xa0 42 \\xa0']\n",
      "[1, 1, 1, 1, 1, 1, 1, 1, 1, 1, 1, 1, 1, 1, 1, 1, 1, 1, 1, 1, 1, 1, 1, 1, 1, 1, 1, 1, 1, 1, 1, 1, 1, 1, 1, 1, 1, 1, 1, 1, 1, 1, 1]\n"
     ]
    }
   ],
   "source": [
    "# 获取sheet表有效列数\n",
    "col_sum = sheet.ncols\n",
    "print(col_sum)\n",
    "\n",
    "# 获取某一列的值\n",
    "col_0_value = sheet.col_values(0)\n",
    "print(col_0_value)\n",
    "\n",
    "# 获取某一列的数据类型\n",
    "col_0_type = sheet.col_types(0)\n",
    "print(col_0_type)"
   ]
  },
  {
   "cell_type": "markdown",
   "metadata": {},
   "source": [
    "# 对Excel的写操作"
   ]
  },
  {
   "cell_type": "code",
   "execution_count": null,
   "metadata": {},
   "outputs": [],
   "source": [
    "import xlwt\n",
    "\n",
    "# 创建工作簿\n",
    "f = xlwt.Workbook()\n",
    "# 创建一个sheet\n",
    "sheet = f.add_sheet('my_test', cell_overwrite_ok=True)\n",
    "#定义每一列的大小\n",
    "col1 = sheet.col(0)\n",
    "col1.width = 256 * 10#大小256x10\n",
    "col2 = sheet.col(1)\n",
    "col2.width = 256 * 20#大小256x20\n",
    "\n",
    "# 表格中位于第一行的属性行编写\n",
    "row0 = ['姓名', '成绩']\n",
    "for i in range(0, len(row0)):\n",
    "    sheet.write(0, i, row0[i])#第0行第i列\n",
    "#继续写入样本行数据\n",
    "data=[['小明',89],\n",
    "      ['小李',91],\n",
    "      ['小王',77],\n",
    "      ['小胖',69]]\n",
    "for i in range(len(data)):\n",
    "    for j in range(len(data[i])):\n",
    "        #因为第0行为列名，所以这里下标i+1\n",
    "        sheet.write(i+1,j,data[i][j])#第i+1行第j列写入数据data[i][j]\n",
    "\n",
    "# 保存文件\n",
    "f.save(\"my_test.xls\")"
   ]
  }
 ],
 "metadata": {
  "kernelspec": {
   "display_name": "Python 3 (ipykernel)",
   "language": "python",
   "name": "python3"
  },
  "language_info": {
   "codemirror_mode": {
    "name": "ipython",
    "version": 3
   },
   "file_extension": ".py",
   "mimetype": "text/x-python",
   "name": "python",
   "nbconvert_exporter": "python",
   "pygments_lexer": "ipython3",
   "version": "3.9.17"
  },
  "toc": {
   "base_numbering": 1,
   "nav_menu": {},
   "number_sections": true,
   "sideBar": true,
   "skip_h1_title": false,
   "title_cell": "Table of Contents",
   "title_sidebar": "Contents",
   "toc_cell": false,
   "toc_position": {
    "height": "calc(100% - 180px)",
    "left": "10px",
    "top": "150px",
    "width": "497.797px"
   },
   "toc_section_display": true,
   "toc_window_display": true
  },
  "varInspector": {
   "cols": {
    "lenName": 16,
    "lenType": 16,
    "lenVar": 40
   },
   "kernels_config": {
    "python": {
     "delete_cmd_postfix": "",
     "delete_cmd_prefix": "del ",
     "library": "var_list.py",
     "varRefreshCmd": "print(var_dic_list())"
    },
    "r": {
     "delete_cmd_postfix": ") ",
     "delete_cmd_prefix": "rm(",
     "library": "var_list.r",
     "varRefreshCmd": "cat(var_dic_list()) "
    }
   },
   "types_to_exclude": [
    "module",
    "function",
    "builtin_function_or_method",
    "instance",
    "_Feature"
   ],
   "window_display": false
  }
 },
 "nbformat": 4,
 "nbformat_minor": 2
}
