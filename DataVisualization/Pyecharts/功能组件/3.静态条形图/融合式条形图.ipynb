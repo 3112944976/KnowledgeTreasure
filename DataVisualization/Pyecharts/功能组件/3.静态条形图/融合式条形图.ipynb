{
 "cells": [
  {
   "cell_type": "code",
   "execution_count": 5,
   "metadata": {},
   "outputs": [
    {
     "name": "stderr",
     "output_type": "stream",
     "text": [
      "D:\\Anaconda3\\lib\\site-packages\\pyecharts\\charts\\chart.py:14: PendingDeprecationWarning: pyecharts 所有图表类型将在 v1.9.0 版本开始强制使用 ChartItem 进行数据项配置 :)\n",
      "  super().__init__(init_opts=init_opts)\n"
     ]
    },
    {
     "data": {
      "text/plain": [
       "'C:\\\\Users\\\\1700\\\\Desktop\\\\信息可视化\\\\code\\\\可视化组件\\\\复合式条形图\\\\融合式条形图.html'"
      ]
     },
     "execution_count": 5,
     "metadata": {},
     "output_type": "execute_result"
    }
   ],
   "source": [
    "from pyecharts import options as opts\n",
    "from pyecharts.charts import Bar\n",
    "import pandas as pd\n",
    "import numpy as np\n",
    "from pyecharts.commons.utils import JsCode\n",
    "\n",
    "tmp = r'C:\\Users\\1700\\Desktop\\信息可视化\\源数据\\国家统计局年度数据\\国民经济核算\\国内生产总值.csv'\n",
    "obj1 = pd.read_csv(tmp)\n",
    "x = np.array(obj1['年份'])\n",
    "y1 = np.array(obj1['国民总收入'])\n",
    "y2 = np.array(obj1['第一产业增加值'])\n",
    "y3 = np.array(obj1['第二产业增加值'])\n",
    "y4 = np.array(obj1['第三产业增加值'])\n",
    "y5 = np.array(obj1['人均国内生产总值'])\n",
    "x = [str(i)+'年' for i in x[::-1]]\n",
    "def set_y(x):\n",
    "    tmp = [int(i/1000) for i in x[::-1]]\n",
    "    return tmp\n",
    "c = (\n",
    "    Bar(\n",
    "        init_opts=opts.InitOpts(\n",
    "            #bg_color={\"type\": \"pattern\", \"image\": JsCode(\"img\"), \"repeat\": \"no-repeat\"}\n",
    "        )\n",
    "    )\n",
    "    .add_xaxis(x)\n",
    "    .add_yaxis(\"国民总收入\", set_y(y1), stack=\"stack1\")\n",
    "    .add_yaxis(\"第一产业增加值\",set_y(y2), stack=\"stack1\")\n",
    "    .add_yaxis(\"第二产业增加值\", set_y(y3), stack=\"stack1\")\n",
    "    .add_yaxis(\"第三产业增加值\", set_y(y4), stack=\"stack1\")\n",
    "    .add_yaxis(\"人均国内生产总值\", set_y(y5), stack=\"stack1\")\n",
    "    .set_series_opts(label_opts=opts.LabelOpts(is_show=False))\n",
    "    .set_global_opts(title_opts=opts.TitleOpts(title=\"China\"),\n",
    "                    datazoom_opts=opts.DataZoomOpts(),\n",
    "#                     toolbox_opts=opts.ToolboxOpts(),\n",
    "#                     legend_opts=opts.LegendOpts(is_show=False)\n",
    "                    )\n",
    "    #.render(\"融合式条形图.html\")\n",
    ")\n",
    "# c.add_js_funcs(\n",
    "#     \"\"\"\n",
    "#     var img = new Image(); img.src = '123.jpg';\n",
    "#     \"\"\"\n",
    "# )\n",
    "c.render(\"融合式条形图.html\")"
   ]
  },
  {
   "cell_type": "code",
   "execution_count": null,
   "metadata": {},
   "outputs": [],
   "source": []
  }
 ],
 "metadata": {
  "kernelspec": {
   "display_name": "Python 3",
   "language": "python",
   "name": "python3"
  },
  "language_info": {
   "codemirror_mode": {
    "name": "ipython",
    "version": 3
   },
   "file_extension": ".py",
   "mimetype": "text/x-python",
   "name": "python",
   "nbconvert_exporter": "python",
   "pygments_lexer": "ipython3",
   "version": "3.7.3"
  }
 },
 "nbformat": 4,
 "nbformat_minor": 2
}
