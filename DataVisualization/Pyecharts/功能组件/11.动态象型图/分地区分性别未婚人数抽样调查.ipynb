{
 "cells": [
  {
   "cell_type": "code",
   "execution_count": 47,
   "metadata": {},
   "outputs": [
    {
     "name": "stderr",
     "output_type": "stream",
     "text": [
      "D:\\Anaconda3\\lib\\site-packages\\pyecharts\\charts\\composite_charts\\timeline.py:12: PendingDeprecationWarning: pyecharts 所有图表类型将在 v1.9.0 版本开始强制使用 ChartItem 进行数据项配置 :)\n",
      "  super().__init__(init_opts=init_opts)\n",
      "D:\\Anaconda3\\lib\\site-packages\\pyecharts\\charts\\chart.py:14: PendingDeprecationWarning: pyecharts 所有图表类型将在 v1.9.0 版本开始强制使用 ChartItem 进行数据项配置 :)\n",
      "  super().__init__(init_opts=init_opts)\n",
      "D:\\Anaconda3\\lib\\site-packages\\pyecharts\\charts\\chart.py:14: PendingDeprecationWarning: pyecharts 所有图表类型将在 v1.9.0 版本开始强制使用 ChartItem 进行数据项配置 :)\n",
      "  super().__init__(init_opts=init_opts)\n",
      "D:\\Anaconda3\\lib\\site-packages\\pyecharts\\charts\\chart.py:14: PendingDeprecationWarning: pyecharts 所有图表类型将在 v1.9.0 版本开始强制使用 ChartItem 进行数据项配置 :)\n",
      "  super().__init__(init_opts=init_opts)\n",
      "D:\\Anaconda3\\lib\\site-packages\\pyecharts\\charts\\chart.py:14: PendingDeprecationWarning: pyecharts 所有图表类型将在 v1.9.0 版本开始强制使用 ChartItem 进行数据项配置 :)\n",
      "  super().__init__(init_opts=init_opts)\n",
      "D:\\Anaconda3\\lib\\site-packages\\pyecharts\\charts\\chart.py:14: PendingDeprecationWarning: pyecharts 所有图表类型将在 v1.9.0 版本开始强制使用 ChartItem 进行数据项配置 :)\n",
      "  super().__init__(init_opts=init_opts)\n",
      "D:\\Anaconda3\\lib\\site-packages\\pyecharts\\charts\\chart.py:14: PendingDeprecationWarning: pyecharts 所有图表类型将在 v1.9.0 版本开始强制使用 ChartItem 进行数据项配置 :)\n",
      "  super().__init__(init_opts=init_opts)\n",
      "D:\\Anaconda3\\lib\\site-packages\\pyecharts\\charts\\chart.py:14: PendingDeprecationWarning: pyecharts 所有图表类型将在 v1.9.0 版本开始强制使用 ChartItem 进行数据项配置 :)\n",
      "  super().__init__(init_opts=init_opts)\n",
      "D:\\Anaconda3\\lib\\site-packages\\pyecharts\\charts\\chart.py:14: PendingDeprecationWarning: pyecharts 所有图表类型将在 v1.9.0 版本开始强制使用 ChartItem 进行数据项配置 :)\n",
      "  super().__init__(init_opts=init_opts)\n",
      "D:\\Anaconda3\\lib\\site-packages\\pyecharts\\charts\\chart.py:14: PendingDeprecationWarning: pyecharts 所有图表类型将在 v1.9.0 版本开始强制使用 ChartItem 进行数据项配置 :)\n",
      "  super().__init__(init_opts=init_opts)\n",
      "D:\\Anaconda3\\lib\\site-packages\\pyecharts\\charts\\chart.py:14: PendingDeprecationWarning: pyecharts 所有图表类型将在 v1.9.0 版本开始强制使用 ChartItem 进行数据项配置 :)\n",
      "  super().__init__(init_opts=init_opts)\n",
      "D:\\Anaconda3\\lib\\site-packages\\pyecharts\\charts\\chart.py:14: PendingDeprecationWarning: pyecharts 所有图表类型将在 v1.9.0 版本开始强制使用 ChartItem 进行数据项配置 :)\n",
      "  super().__init__(init_opts=init_opts)\n",
      "D:\\Anaconda3\\lib\\site-packages\\pyecharts\\charts\\chart.py:14: PendingDeprecationWarning: pyecharts 所有图表类型将在 v1.9.0 版本开始强制使用 ChartItem 进行数据项配置 :)\n",
      "  super().__init__(init_opts=init_opts)\n",
      "D:\\Anaconda3\\lib\\site-packages\\pyecharts\\charts\\chart.py:14: PendingDeprecationWarning: pyecharts 所有图表类型将在 v1.9.0 版本开始强制使用 ChartItem 进行数据项配置 :)\n",
      "  super().__init__(init_opts=init_opts)\n",
      "D:\\Anaconda3\\lib\\site-packages\\pyecharts\\charts\\chart.py:14: PendingDeprecationWarning: pyecharts 所有图表类型将在 v1.9.0 版本开始强制使用 ChartItem 进行数据项配置 :)\n",
      "  super().__init__(init_opts=init_opts)\n",
      "D:\\Anaconda3\\lib\\site-packages\\pyecharts\\charts\\chart.py:14: PendingDeprecationWarning: pyecharts 所有图表类型将在 v1.9.0 版本开始强制使用 ChartItem 进行数据项配置 :)\n",
      "  super().__init__(init_opts=init_opts)\n",
      "D:\\Anaconda3\\lib\\site-packages\\pyecharts\\charts\\chart.py:14: PendingDeprecationWarning: pyecharts 所有图表类型将在 v1.9.0 版本开始强制使用 ChartItem 进行数据项配置 :)\n",
      "  super().__init__(init_opts=init_opts)\n",
      "D:\\Anaconda3\\lib\\site-packages\\pyecharts\\charts\\chart.py:14: PendingDeprecationWarning: pyecharts 所有图表类型将在 v1.9.0 版本开始强制使用 ChartItem 进行数据项配置 :)\n",
      "  super().__init__(init_opts=init_opts)\n"
     ]
    },
    {
     "data": {
      "text/plain": [
       "'C:\\\\Users\\\\1700\\\\Desktop\\\\人口\\\\分地区婚姻情况(静态象型图)\\\\分地区分性别未婚人数抽样调查.html'"
      ]
     },
     "execution_count": 47,
     "metadata": {},
     "output_type": "execute_result"
    }
   ],
   "source": [
    "import json\n",
    "from pyecharts import options as opts\n",
    "from pyecharts.charts import PictorialBar, Timeline\n",
    "import pandas as pd\n",
    "import numpy as np\n",
    "\n",
    "tmp = r'C:\\Users\\1700\\Desktop\\人口\\源数据\\分地区人口\\人口抽样调查样本数据\\按婚姻状况分人口数(人口抽样调查).csv'\n",
    "obj1 = pd.read_csv(tmp)\n",
    "obj2 = obj1[~obj1['年份'].isin([2000,2001,2010])]#选取含有指定值的行从表中删除：~\n",
    "obj3 = obj2.reset_index(drop=True)\n",
    "obj4 = pd.DataFrame(obj3,columns=['省份','年份','15岁及以上男性未婚人口数(人口抽样调查)(人)','15岁及以上女性未婚人口数(人口抽样调查)(人)'])\n",
    "obj5 = obj4[obj4['年份'] == 2019]\n",
    "obj6 = obj5.reset_index(drop=True)\n",
    "\n",
    "name_list = [i for i in obj4[obj4['年份'] == 2019]['省份'].tolist()]\n",
    "time_list = [i for i in obj4[obj4['省份'] == '北京市']['年份'].tolist()]\n",
    "\n",
    "def men(x):\n",
    "    tmp1 = obj4[obj4['年份'] == int(x)]\n",
    "    tmp2 = tmp1.reset_index(drop=True)\n",
    "    return tmp2['15岁及以上男性未婚人口数(人口抽样调查)(人)'].tolist()\n",
    "def women(x):\n",
    "    tmp1 = obj4[obj4['年份'] == int(x)]\n",
    "    tmp2 = tmp1.reset_index(drop=True)\n",
    "    return tmp2['15岁及以上女性未婚人口数(人口抽样调查)(人)'].tolist()\n",
    "\n",
    "tl = Timeline()\n",
    "for i in time_list:\n",
    "    bar = (\n",
    "            PictorialBar()\n",
    "            .add_xaxis(name_list)\n",
    "            .add_yaxis(\n",
    "                        \"男性未婚人口数\",\n",
    "                        men(i),\n",
    "                        label_opts=opts.LabelOpts(is_show=False),\n",
    "                        symbol_size=9,\n",
    "                        symbol_repeat=\"fixed\",\n",
    "                        symbol_offset=[0, 0],\n",
    "                        is_symbol_clip=True,\n",
    "                        symbol=symbols[\"人\"],\n",
    "            )\n",
    "        \n",
    "        \n",
    "            .add_yaxis(\n",
    "                        \"女性未婚人口数\",\n",
    "                        women(i),\n",
    "                        label_opts=opts.LabelOpts(is_show=False),\n",
    "                        symbol_size=9,\n",
    "                        symbol_repeat=\"fixed\",\n",
    "                        symbol_offset=[0, 0],\n",
    "                        is_symbol_clip=True,\n",
    "                        symbol=symbols[\"人\"],\n",
    "            )                \n",
    "            .reversal_axis()\n",
    "            .set_global_opts(\n",
    "                title_opts=opts.TitleOpts(title=\"分地区分性别未婚人数抽样调查可视化\"),\n",
    "                xaxis_opts=opts.AxisOpts(is_show=False),\n",
    "                yaxis_opts=opts.AxisOpts(\n",
    "                    axislabel_opts=opts.LabelOpts(font_size=9),\n",
    "                    axistick_opts=opts.AxisTickOpts(is_show=False),\n",
    "                    axisline_opts=opts.AxisLineOpts(\n",
    "                        linestyle_opts=opts.LineStyleOpts(opacity=0)\n",
    "                    ),\n",
    "                ),\n",
    "            )\n",
    "            )\n",
    "    tl.add(bar, \"{}年\".format(i))\n",
    "tl.add_schema(is_auto_play=True,is_rewind_play=True,play_interval = 900)\n",
    "tl.render(\"分地区分性别未婚人数抽样调查.html\")\n"
   ]
  },
  {
   "cell_type": "code",
   "execution_count": 45,
   "metadata": {},
   "outputs": [],
   "source": [
    "symbols = {\n",
    "    \"人\": 'path://M408 350c0-9.941-8.059-18-18-18s-18 8.059-18 18v246h-0.098c-1.274 16.229-14.847 29-31.402 29h-3c-17.397 0-31.5-14.103-31.5-31.5V254c0-28.167 22.833-51 51-51h310c28.167 0 51 22.833 51 51v339.5c0 17.397-14.103 31.5-31.5 31.5-16.555 0-30.128-12.771-31.402-29H655V350c0-9.83-7.88-17.82-17.67-17.997L637 332c-9.941 0-18 8.059-18 18v601.5c0 26.234-21.266 47.5-47.5 47.5S524 977.734 524 951.5V596h-21v355.5c0 26.234-21.266 47.5-47.5 47.5S408 977.734 408 951.5zM512.5 25c44.459 0 80.5 36.041 80.5 80.5S556.959 186 512.5 186 432 149.959 432 105.5 468.041 25 512.5 25z'\n",
    "    \"test\":\"path://M521.28 303.36m-207.36 0a207.36 207.36 0 1 0 414.72 0 207.36 207.36 0 1 0-414.72 0Z\" fill=\"#06A8F5\" p-id=\"2139\" data-spm-anchor-id=\"a313x.7781069.0.i3\" class=\"selected\"></path><path d=\"M943.68 944.64H98.56c-34.56 0-62.4-27.84-62.4-62.4v-17.92c0-31.68 18.56-60.48 47.68-73.28l212.8-145.92c3.84-2.56 8.32-4.48 12.8-5.12 56.32-7.04 367.04-7.04 423.04 0 4.48 0.64 8.96 2.24 12.8 5.12l212.8 145.92c28.8 12.8 47.68 41.6 47.68 73.28v17.92c0.32 34.56-27.52 62.4-62.08 62.4z\" fill=\"#06A8F5\" p-id=\"2140\"></path></svg>'\n",
    "}\n",
    "#涉及库：json\n",
    "#样式网址：https://www.iconfont.cn/search/index\n",
    "#使用方法:指定相应的图标，下载复制其SVG代码，然后将<path d='str'>中的字符串str写入到 symbols中，并进行命令。"
   ]
  },
  {
   "cell_type": "code",
   "execution_count": null,
   "metadata": {},
   "outputs": [],
   "source": []
  }
 ],
 "metadata": {
  "kernelspec": {
   "display_name": "Python 3",
   "language": "python",
   "name": "python3"
  },
  "language_info": {
   "codemirror_mode": {
    "name": "ipython",
    "version": 3
   },
   "file_extension": ".py",
   "mimetype": "text/x-python",
   "name": "python",
   "nbconvert_exporter": "python",
   "pygments_lexer": "ipython3",
   "version": "3.7.3"
  }
 },
 "nbformat": 4,
 "nbformat_minor": 2
}
