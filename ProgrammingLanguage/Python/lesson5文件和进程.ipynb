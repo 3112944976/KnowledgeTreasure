{
 "cells": [
  {
   "cell_type": "markdown",
   "metadata": {},
   "source": [
    "# 五 文件和进程"
   ]
  },
  {
   "cell_type": "markdown",
   "metadata": {},
   "source": [
    "- 文本文件读写\n",
    "- json和csv文件操作\n",
    "- 序列化及应用\n",
    "- 多进程与多线程\n",
    "- 进程池和线程池\n",
    "- 系统库"
   ]
  },
  {
   "cell_type": "markdown",
   "metadata": {},
   "source": [
    "## 文件"
   ]
  },
  {
   "cell_type": "code",
   "execution_count": 6,
   "metadata": {},
   "outputs": [
    {
     "name": "stdout",
     "output_type": "stream",
     "text": [
      "<class '_io.TextIOWrapper'>\n",
      "Line #1 hello world\n",
      "Line #2 life is not easy\n"
     ]
    }
   ],
   "source": [
    "f = open(\"sample.txt\",\"r\")#r = read ,w = write, a = append , b = binary \n",
    "print(type(f))\n",
    "texts = f.read()\n",
    "print(texts)\n",
    "f.close()"
   ]
  },
  {
   "cell_type": "code",
   "execution_count": 7,
   "metadata": {},
   "outputs": [
    {
     "name": "stdout",
     "output_type": "stream",
     "text": [
      "Line #1 hello world\n",
      "Line #2 life is not easy\n"
     ]
    }
   ],
   "source": [
    "with open(\"sample.txt\",\"r\") as f:\n",
    "    line = f.readline()\n",
    "    while line:\n",
    "        print(line.strip())\n",
    "        line = f.readline()"
   ]
  },
  {
   "cell_type": "code",
   "execution_count": 8,
   "metadata": {},
   "outputs": [
    {
     "name": "stdout",
     "output_type": "stream",
     "text": [
      "Line #1 hello world\n",
      "Line #2 life is not easy\n"
     ]
    }
   ],
   "source": [
    "with open(\"sample.txt\",\"r\") as f:\n",
    "    for line in f.readlines():\n",
    "        print(line.strip())"
   ]
  },
  {
   "cell_type": "code",
   "execution_count": 9,
   "metadata": {},
   "outputs": [
    {
     "name": "stdout",
     "output_type": "stream",
     "text": [
      "Line #1 hello world\n",
      "Line #2 life is not easy\n"
     ]
    }
   ],
   "source": [
    "#实现readline 生成器\n",
    "def readlines(f):\n",
    "    line = f.readline()\n",
    "    while line:\n",
    "        yield line\n",
    "        line = f.readline()  \n",
    "        \n",
    "with open(\"sample.txt\",\"r\") as f:\n",
    "    for line in f.readlines():\n",
    "        print(line.strip())"
   ]
  },
  {
   "cell_type": "code",
   "execution_count": 11,
   "metadata": {
    "collapsed": true
   },
   "outputs": [],
   "source": [
    "# 写文件\n",
    "texts = ['New Line #1 hello world', 'Line #2 life is not easy']\n",
    "\n",
    "with open(\"new_sample.txt\",\"w+\") as f:\n",
    "    for text in texts:\n",
    "        f.write(text + '\\n')\n",
    "        \n",
    "with open(\"new_sample.txt\", 'a+') as f:\n",
    "    f.write('Something new \\n')"
   ]
  },
  {
   "cell_type": "code",
   "execution_count": 17,
   "metadata": {},
   "outputs": [
    {
     "name": "stdout",
     "output_type": "stream",
     "text": [
      "<class 'dict'>\n",
      "{'ip': '192.168.1.1', 'port': ['9100', '9101', '9102']}\n",
      "{'ip': '192.168.1.1', 'port': ['9100', '9101', '9102']}\n",
      "<class 'str'>\n",
      "{\"ip\": \"192.168.1.1\", \"port\": [\"9100\", \"9101\", \"9102\"]}\n"
     ]
    }
   ],
   "source": [
    "#json 文件的读取\n",
    "\n",
    "\"\"\"\n",
    "json 序列化和反序列化\n",
    "#序列化：  dump()/dumps():将python中的字典的对象序列化后转换成json格式的字符串\n",
    "#反序列化：load()/loads():将json格式字符串转化成pyhon中的字典对象\n",
    "\"\"\" \n",
    "# dump（）：将python中的字典的对象序列化转换成json格式文件并保存到json文件中\n",
    "# dumps（）：将python中的字典的对象序列化转换成json格式的字符串对象并保存到json文件中\n",
    "# loads（）：将json格式字符串转化成pyhon中的字典对象\n",
    "\n",
    "import json\n",
    "# json.dump 和json.load\n",
    "# 序列化操作\n",
    "config = {'ip':'192.168.1.1', 'port':['9100', '9101', '9102']}\n",
    "with open('config.json', 'w+') as f:\n",
    "    json.dump(config, f) #把字典写入json文件，传入了文件句柄\n",
    "# 反序列化操作\n",
    "with open('config.json', 'r') as f:\n",
    "    new_config = json.load(f) #把json文件对象变成字典对象\n",
    "print(type(new_config))\n",
    "print(new_config)\n",
    "\n",
    "# json.dumps 和json.loads\n",
    "config_str = '{\"ip\": \"192.168.1.1\", \"port\": [\"9100\", \"9101\", \"9102\"]}'#json中字符串用“”双引号\n",
    "config = json.loads(config_str)\n",
    "print(config)\n",
    "new_config_str = json.dumps(config)\n",
    "print(type(new_config_str))\n",
    "print(new_config_str)"
   ]
  },
  {
   "cell_type": "code",
   "execution_count": 19,
   "metadata": {},
   "outputs": [
    {
     "name": "stdout",
     "output_type": "stream",
     "text": [
      "{\n",
      "\"ip\":\"192.168.1.1\",\n",
      "\"port\":[\"9100\",\"9101\",\"9102\"]\n",
      "}\n"
     ]
    }
   ],
   "source": [
    "#模拟dumps的实现：把字典对象序列化成json对象\n",
    "def json_dumps(di):\n",
    "    lines = []\n",
    "    s = '{\\n'\n",
    "    for k, v in di.items():\n",
    "        _s = '\"' + k + '\":'\n",
    "        if type(v) != list:\n",
    "            _s += '\"' + v + '\"'\n",
    "        else:\n",
    "            items = ['\"' + i + '\"' for i in v ]\n",
    "            _s += '[' + ','.join(items)  + ']'\n",
    "        lines.append(_s)\n",
    "    s += ',\\n'.join(lines)\n",
    "    s +='\\n}'\n",
    "    return s\n",
    "\n",
    "config = {'ip':'192.168.1.1', 'port':['9100', '9101', '9102']}\n",
    "print(json_dumps(config))"
   ]
  },
  {
   "cell_type": "code",
   "execution_count": 31,
   "metadata": {},
   "outputs": [
    {
     "name": "stdout",
     "output_type": "stream",
     "text": [
      "b'\\x80\\x03c__main__\\nMyObject\\nq\\x00)\\x81q\\x01}q\\x02(X\\x01\\x00\\x00\\x00xq\\x03KdX\\x01\\x00\\x00\\x00yq\\x04K\\xc8ub.'\n",
      "100 200\n"
     ]
    }
   ],
   "source": [
    "#序列化和反序列化 pickle\n",
    "#按对象进行输出和输入\n",
    "import pickle\n",
    "\n",
    "class MyObject:\n",
    "    def __init__(self, x, y):\n",
    "        self.x = x\n",
    "        self.y = y\n",
    "        \n",
    "obj = MyObject(100, 200)\n",
    "s_obj = pickle.dumps(obj)\n",
    "print(s_obj)\n",
    "obj = pickle.loads(s_obj)\n",
    "print(obj.x, obj.y)\n",
    "\n"
   ]
  },
  {
   "cell_type": "code",
   "execution_count": 20,
   "metadata": {},
   "outputs": [
    {
     "name": "stdout",
     "output_type": "stream",
     "text": [
      "[{'Age': 'youth', 'Income': 'high', 'Student': 'no', 'CreditRating': 'fair'}, {'Age': 'youth', 'Income': 'high', 'Student': 'no', 'CreditRating': 'excellent'}, {'Age': 'middle', 'Income': 'high', 'Student': 'no', 'CreditRating': 'fair'}, {'Age': 'senior', 'Income': 'medium', 'Student': 'no', 'CreditRating': 'fair'}, {'Age': 'senior', 'Income': 'low', 'Student': 'yes', 'CreditRating': 'fair'}, {'Age': 'senior', 'Income': 'low', 'Student': 'yes', 'CreditRating': 'excellent'}, {'Age': 'middle', 'Income': 'low', 'Student': 'yes', 'CreditRating': 'excellent'}, {'Age': 'youth', 'Income': 'medium', 'Student': 'no', 'CreditRating': 'fair'}, {'Age': 'youth', 'Income': 'low', 'Student': 'yes', 'CreditRating': 'fair'}, {'Age': 'senior', 'Income': 'medium', 'Student': 'yes', 'CreditRating': 'fair'}, {'Age': 'youth', 'Income': 'medium', 'Student': 'yes', 'CreditRating': 'excellent'}, {'Age': 'middle', 'Income': 'medium', 'Student': 'no', 'CreditRating': 'excellent'}, {'Age': 'middle', 'Income': 'high', 'Student': 'yes', 'CreditRating': 'fair'}, {'Age': 'senior', 'Income': 'medium', 'Student': 'no', 'CreditRating': 'excellent'}]\n",
      "['no', 'no', 'yes', 'yes', 'yes', 'no', 'yes', 'no', 'yes', 'yes', 'yes', 'yes', 'yes', 'no']\n"
     ]
    }
   ],
   "source": [
    "#csv 读取文件\n",
    "import csv\n",
    "\n",
    "feature_list = []\n",
    "label_list = []\n",
    "\n",
    "with open(\"sales.csv\", 'r') as f:\n",
    "    reader = csv.reader(f)\n",
    "    header = next(reader)# 第一行是标题行\n",
    "    for row in reader:   #从第二行开始读取每条记录属性\n",
    "        label_list.append(row[-1]) \n",
    "        row_dict = {}\n",
    "        for i in range(1, len(row) -1):\n",
    "            row_dict[header[i]] = row[i]\n",
    "        feature_list.append(row_dict)\n",
    "        \n",
    "print(feature_list)\n",
    "print(label_list)"
   ]
  },
  {
   "cell_type": "code",
   "execution_count": 27,
   "metadata": {},
   "outputs": [
    {
     "name": "stdout",
     "output_type": "stream",
     "text": [
      "['RID', 'Age', 'Income', 'Student', 'CreditRating', 'BuyComputer']\n",
      "['1', 'youth', 'high', 'no', 'fair', 'no']\n",
      "['2', 'youth', 'high', 'no', 'excellent', 'no']\n",
      "['3', 'middle', 'high', 'no', 'fair', 'yes']\n",
      "['4', 'senior', 'medium', 'no', 'fair', 'yes']\n",
      "['5', 'senior', 'low', 'yes', 'fair', 'yes']\n",
      "['6', 'senior', 'low', 'yes', 'excellent', 'no']\n",
      "['7', 'middle', 'low', 'yes', 'excellent', 'yes']\n",
      "['8', 'youth', 'medium', 'no', 'fair', 'no']\n",
      "['9', 'youth', 'low', 'yes', 'fair', 'yes']\n",
      "['10', 'senior', 'medium', 'yes', 'fair', 'yes']\n",
      "['11', 'youth', 'medium', 'yes', 'excellent', 'yes']\n",
      "['12', 'middle', 'medium', 'no', 'excellent', 'yes']\n",
      "['13', 'middle', 'high', 'yes', 'fair', 'yes']\n",
      "['14', 'senior', 'medium', 'no', 'excellent', 'no']\n",
      "[{'Age': 'youth', 'Income': 'high', 'Student': 'no', 'CreditRating': 'fair'}, {'Age': 'youth', 'Income': 'high', 'Student': 'no', 'CreditRating': 'excellent'}, {'Age': 'middle', 'Income': 'high', 'Student': 'no', 'CreditRating': 'fair'}, {'Age': 'senior', 'Income': 'medium', 'Student': 'no', 'CreditRating': 'fair'}, {'Age': 'senior', 'Income': 'low', 'Student': 'yes', 'CreditRating': 'fair'}, {'Age': 'senior', 'Income': 'low', 'Student': 'yes', 'CreditRating': 'excellent'}, {'Age': 'middle', 'Income': 'low', 'Student': 'yes', 'CreditRating': 'excellent'}, {'Age': 'youth', 'Income': 'medium', 'Student': 'no', 'CreditRating': 'fair'}, {'Age': 'youth', 'Income': 'low', 'Student': 'yes', 'CreditRating': 'fair'}, {'Age': 'senior', 'Income': 'medium', 'Student': 'yes', 'CreditRating': 'fair'}, {'Age': 'youth', 'Income': 'medium', 'Student': 'yes', 'CreditRating': 'excellent'}, {'Age': 'middle', 'Income': 'medium', 'Student': 'no', 'CreditRating': 'excellent'}, {'Age': 'middle', 'Income': 'high', 'Student': 'yes', 'CreditRating': 'fair'}, {'Age': 'senior', 'Income': 'medium', 'Student': 'no', 'CreditRating': 'excellent'}]\n",
      "['no', 'no', 'yes', 'yes', 'yes', 'no', 'yes', 'no', 'yes', 'yes', 'yes', 'yes', 'yes', 'no']\n"
     ]
    }
   ],
   "source": [
    "#实现csv文件的读取\n",
    "def read_csv(f):\n",
    "    line = f.readline()\n",
    "    while line:\n",
    "        line = line.strip()\n",
    "        yield line.split(',')#按逗号分隔\n",
    "        line = f.readline()\n",
    "\n",
    "headers = None\n",
    "feature_list = []\n",
    "label_list = []\n",
    "\n",
    "with open(\"sales.csv\", 'r') as f:\n",
    "    for row in read_csv(f):   #从第二行开始读取每条记录属性\n",
    "        print(row)\n",
    "        if not headers:#第一行标题行\n",
    "            headers = row\n",
    "        else:\n",
    "            label_list.append(row[-1]) \n",
    "            row_dict = {}\n",
    "            for i in range(1, len(row) -1):\n",
    "                row_dict[headers[i]] = row[i]\n",
    "            feature_list.append(row_dict)\n",
    "        \n",
    "print(feature_list)\n",
    "print(label_list)"
   ]
  },
  {
   "cell_type": "markdown",
   "metadata": {
    "collapsed": true
   },
   "source": [
    "## 多进程和多线程"
   ]
  },
  {
   "cell_type": "markdown",
   "metadata": {},
   "source": [
    "- 进程：是计算机中的程序关于其中所需要的的数据集合的活动，是os结构的基本单位\n",
    "- 线程：轻量级的进程，同一个进程中包含多个线程"
   ]
  },
  {
   "cell_type": "code",
   "execution_count": 2,
   "metadata": {},
   "outputs": [
    {
     "name": "stdout",
     "output_type": "stream",
     "text": [
      "Parent process 8420.\n",
      "Child process will start .\n",
      "Child process end\n"
     ]
    }
   ],
   "source": [
    "#多进程: 代码最好在cmd中运行，因为子进程的id在note中看不到\n",
    "from multiprocessing import Process\n",
    "import os\n",
    "\n",
    "#子进程\n",
    "def run_pro(name):\n",
    "    print(\"Run child process %s (%s)...\" %(name, os.getpid()))\n",
    "\n",
    "if __name__ == '__main__':\n",
    "    print(\"Parent process %s.\" % os.getpid())\n",
    "    p = Process(target = run_pro, args = ('test', ))\n",
    "    print('Child process will start .')\n",
    "    p.start()\n",
    "    p.join()# 等待进程或线程结束\n",
    "    print('Child process end')"
   ]
  },
  {
   "cell_type": "code",
   "execution_count": 4,
   "metadata": {},
   "outputs": [
    {
     "name": "stdout",
     "output_type": "stream",
     "text": [
      "thread MainThread is running...\n",
      "thread LoopThread is running...\n",
      "thread LoopThread >>> 1\n",
      "thread LoopThread >>> 2\n",
      "thread LoopThread >>> 3\n",
      "thread LoopThread >>> 4\n",
      "thread LoopThread >>> 5\n",
      "thread LoopThread ended\n",
      "thread MainThread ended . \n"
     ]
    }
   ],
   "source": [
    "#多线程：python中是没有线程id的概念，但有名字\n",
    "import time, threading\n",
    "\n",
    "#新线程\n",
    "def loop():\n",
    "    print('thread %s is running...' % threading.current_thread().name)\n",
    "    n = 0\n",
    "    while n <5:\n",
    "        n = n+1\n",
    "        print(\"thread %s >>> %s\" %(threading.current_thread().name, n))\n",
    "        time.sleep(1)\n",
    "    print('thread %s ended' % threading.current_thread().name)\n",
    "\n",
    "print('thread %s is running...' % threading.current_thread().name)\n",
    "t = threading.Thread(target =loop, name=\"LoopThread\")\n",
    "t.start()\n",
    "t.join()\n",
    "print('thread %s ended . ' % threading.current_thread().name)"
   ]
  },
  {
   "cell_type": "code",
   "execution_count": null,
   "metadata": {},
   "outputs": [
    {
     "name": "stdout",
     "output_type": "stream",
     "text": [
      "Parent process 8420.\n",
      "Waiting for all subprocesses done...\n"
     ]
    }
   ],
   "source": [
    "#进程池：进程多了会导致上下文切换的问题=》代码管理成本增加\n",
    "#注意：此cell代码在cmd中运行\n",
    "from multiprocessing import Pool\n",
    "import os, time, random\n",
    "\n",
    "def long_time_task(name):\n",
    "    print(\"Run task %s (%s)...\" %(name, os.getpid))\n",
    "    start = time.time()\n",
    "    time.sleep(random.random()*3)\n",
    "    end = time.time()\n",
    "    print('Task %s runs %0.2f seconds.' %(name, (end - start)))\n",
    "\n",
    "if __name__ == \"__main__\":\n",
    "    print(\"Parent process %s.\" % os.getpid())\n",
    "    p = Pool(4) #进程池里同时最多跑的进程个数，一般设置为核的两倍\n",
    "    for i in range(5):\n",
    "        p.apply_async(long_time_task, args=(i,))\n",
    "    print('Waiting for all subprocesses done...')\n",
    "    p.close()#close:不再往进程池添加任务\n",
    "    p.join()\n",
    "    print(\"All subprocesses done.\")\n",
    "    "
   ]
  },
  {
   "cell_type": "code",
   "execution_count": 2,
   "metadata": {},
   "outputs": [
    {
     "name": "stdout",
     "output_type": "stream",
     "text": [
      "10\n",
      "1 \\n\n",
      "3 \\n\n",
      "2 \\n4 \\n\n",
      "\n",
      "5 \\n\n",
      "6 \\n\n",
      "7 \\n\n",
      "8 \\n\n",
      "9 \\n\n",
      "10 \\n\n"
     ]
    }
   ],
   "source": [
    "#线程池\n",
    "#步骤：\n",
    "#1. 定义线程函数\n",
    "#2. 将创建多个任务put到线程池中--threadpool.makeRequests()\n",
    "#3. 等待所有任务处理完毕 ---threadpool.wait\n",
    "import threadpool\n",
    "import os, time, random\n",
    "\n",
    "def long_op(x):\n",
    "    print('%d \\\\n' %x)\n",
    "    time.sleep(2)\n",
    "pool = threadpool.ThreadPool(os.cpu_count())\n",
    "tasks = threadpool.makeRequests(long_op, [1,2,3,4,5,6,7,8,9,10])\n",
    "print(len(tasks))\n",
    "[pool.putRequest(task)  for task in tasks]\n",
    "pool.wait()"
   ]
  },
  {
   "cell_type": "code",
   "execution_count": 3,
   "metadata": {},
   "outputs": [
    {
     "name": "stdout",
     "output_type": "stream",
     "text": [
      "{'0': [14, 15, 20], '1': [45, 45, 56], '2': [28, 28, 64]}\n",
      "[45, 56, 64]\n"
     ]
    }
   ],
   "source": [
    "#多线程的应用例如在100万个数中找到最大的100个数， MapReduce的做法\n",
    "#问题：多线程的值如何返回：用全局变量\n",
    "import threading\n",
    "\n",
    "def top3(data):\n",
    "    data.sort()\n",
    "    temp_result[threading.current_thread().name] = data[-3:]#data中最大的三个值\n",
    "    \n",
    "data_set = [\n",
    "    [1,7,8,9,20,11,14,15],\n",
    "    [19,21,23,24,45,12,45,56,31],\n",
    "    [18,28,64,22,17,28]\n",
    "]\n",
    "temp_result = {} #用全局变量存储线程返回值\n",
    "threads = []\n",
    "\n",
    "for i in range(len(data_set)):#data_set有几组数据就跑几个线程\n",
    "    t = threading.Thread(target = top3, name = str(i), args = (data_set[i], ))\n",
    "    threads.append(t)\n",
    "for t in threads:\n",
    "    t.start()\n",
    "for t in threads:\n",
    "    t.join()\n",
    "\n",
    "print(temp_result)\n",
    "result = []\n",
    "for k,v in temp_result.items():\n",
    "    result.extend(v)\n",
    "result.sort()\n",
    "print(result[-3:])"
   ]
  },
  {
   "cell_type": "code",
   "execution_count": 5,
   "metadata": {},
   "outputs": [
    {
     "name": "stdout",
     "output_type": "stream",
     "text": [
      "Done\n"
     ]
    }
   ],
   "source": [
    "#多线程变量共享\n",
    "#多线程进行数据交换时，不能够保证数据的安全性和一致性-> 提出了队列queue（自带锁）\n",
    "#注意：在cmd中运行\n",
    "from multiprocessing import Process, Queue\n",
    "import os, time, random\n",
    "\n",
    "def write(q):#写进程\n",
    "    print(\"write: %s \"% os.getpid()) \n",
    "    for value in ['AAA', 'BBB', 'Hello world']:\n",
    "        print(\"write %s \" %value)\n",
    "        q.put(value)\n",
    "        time.sleep(random.random())\n",
    "        \n",
    "def read(q):#读进程\n",
    "    print(\"read: %s \"% os.getpid())\n",
    "    while True:\n",
    "        value = q.get(True)\n",
    "        print(\"read %s \" %value)\n",
    "\n",
    "if __name__ == \"__main__\" :\n",
    "    q = Queue()\n",
    "    pw = Process(target = write, args = (q,))\n",
    "    pr = Process(target = read, args = (q,))\n",
    "    pw.start()\n",
    "    pr.start()\n",
    "    pw.join()\n",
    "    time.sleep(3)\n",
    "#     pr.join() #等待read结束是没有用的，因为里面是死循环\n",
    "    pr.terminate()\n",
    "    print('Done')"
   ]
  },
  {
   "cell_type": "code",
   "execution_count": 2,
   "metadata": {},
   "outputs": [
    {
     "name": "stdout",
     "output_type": "stream",
     "text": [
      "change_balance 中的balance： 0\n",
      "change_balance 中的balance：change_balance 中的balance：  0change_balance 中的balance：0\n",
      " \n",
      "0\n",
      "change_balance 中的balance： 0change_balance 中的balance：\n",
      " change_balance 中的balance：change_balance 中的balance：change_balance 中的balance：change_balance 中的balance： 0   change_balance 中的balance：00\n",
      "000 \n",
      "\n",
      "\n",
      "\n",
      "\n",
      "0\n"
     ]
    }
   ],
   "source": [
    "#锁\n",
    "import threading\n",
    "import time\n",
    "\n",
    "lock = threading.Lock()\n",
    "balance = 0\n",
    "\n",
    "def change_balance(n):\n",
    "    global balance\n",
    "    balance +=n\n",
    "    balance -=n\n",
    "    print(\"change_balance 中的balance：\", balance)\n",
    "    #思考：如果是两个进程，一个加10 ，另一个加20，同时操作，最后balance的值可能是110，也可能是120\n",
    "    \n",
    "def run_thread(n):\n",
    "    #先获取锁\n",
    "    lock.acquire()\n",
    "    try:#如果不检查异常，一旦有人raise Excption 这个lock就不会被释放就成了死锁（内存泄漏）\n",
    "        change_balance(n)\n",
    "    except:\n",
    "        pass\n",
    "    finally:\n",
    "        lock.release()\n",
    "        \n",
    "threads = []\n",
    "for i in range(11):\n",
    "    t = threading.Thread(target =run_thread, args=(i, ))\n",
    "    threads.append(t)\n",
    "    \n",
    "for t in threads:\n",
    "    t.start()\n",
    "    \n",
    "for t in threads:\n",
    "    t.join()\n",
    "\n",
    "print(balance)"
   ]
  },
  {
   "cell_type": "code",
   "execution_count": 4,
   "metadata": {},
   "outputs": [
    {
     "name": "stdout",
     "output_type": "stream",
     "text": [
      "['', 'C:\\\\Users\\\\neustu\\\\Anaconda3\\\\python36.zip', 'C:\\\\Users\\\\neustu\\\\Anaconda3\\\\DLLs', 'C:\\\\Users\\\\neustu\\\\Anaconda3\\\\lib', 'C:\\\\Users\\\\neustu\\\\Anaconda3', 'C:\\\\Users\\\\neustu\\\\Anaconda3\\\\lib\\\\site-packages', 'C:\\\\Users\\\\neustu\\\\Anaconda3\\\\lib\\\\site-packages\\\\Babel-2.5.0-py3.6.egg', 'C:\\\\Users\\\\neustu\\\\Anaconda3\\\\lib\\\\site-packages\\\\win32', 'C:\\\\Users\\\\neustu\\\\Anaconda3\\\\lib\\\\site-packages\\\\win32\\\\lib', 'C:\\\\Users\\\\neustu\\\\Anaconda3\\\\lib\\\\site-packages\\\\Pythonwin', 'C:\\\\Users\\\\neustu\\\\Anaconda3\\\\lib\\\\site-packages\\\\IPython\\\\extensions', 'C:\\\\Users\\\\neustu\\\\.ipython']\n",
      "['C:\\\\Users\\\\neustu\\\\Anaconda3\\\\lib\\\\site-packages\\\\ipykernel_launcher.py', '-f', 'C:\\\\Users\\\\neustu\\\\AppData\\\\Roaming\\\\jupyter\\\\runtime\\\\kernel-899f059f-5690-4fcd-873e-88f4422d17c1.json']\n"
     ]
    }
   ],
   "source": [
    "#sys\n",
    "import sys\n",
    "print(sys.path)\n",
    "print(sys.argv)"
   ]
  },
  {
   "cell_type": "code",
   "execution_count": 7,
   "metadata": {},
   "outputs": [
    {
     "name": "stdout",
     "output_type": "stream",
     "text": [
      "config.json\n",
      "lesson5文件和进程.ipynb\n",
      "new_sample.txt\n",
      "sales.csv\n",
      "sample.txt\n",
      "test.py\n",
      ".ipynb_checkpoints\n",
      "\tfile-checkpoint.ipynb\n",
      "\tlesson5文件和进程-checkpoint.ipynb\n",
      "\t文件和多线程-checkpoint.ipynb\n",
      "\t文件和多线程课后作业-checkpoint.ipynb\n",
      "1\n",
      "\t1.1\n",
      "\t\t1.1.1\n",
      "homework5\n",
      "\tnew_persistence.txt\n",
      "\tpersistence.txt\n",
      "\twords0.txt\n"
     ]
    }
   ],
   "source": [
    "#os 应用：递归打印当前目录\n",
    "import os\n",
    "\n",
    "def dir_s(path, tabs = 0): #用户输入的是相对路径或者绝对路径\n",
    "    path = os.path.abspath(path)\n",
    "    files = os.listdir(path)#得到文件夹下的所有文件名称\n",
    "    my_dirs = []\n",
    "    for f in files:\n",
    "        abs_path = os.path.join(path, f)#获取绝对路径\n",
    "        if os.path.isdir(abs_path):\n",
    "            my_dirs.append(f)#如果是目录则添加保存\n",
    "        else :\n",
    "            print('\\t' * tabs + f)#如果是文件就换行打印\n",
    "     #统一打印出目录的子目录\n",
    "    for my_dir in my_dirs:\n",
    "        print(\"\\t\" * tabs + my_dir)\n",
    "        dir_s(os.path.join(path, my_dir), tabs+1)\n",
    "\n",
    "dir_s('.')       "
   ]
  },
  {
   "cell_type": "markdown",
   "metadata": {},
   "source": [
    "作业\n",
    "1. 读取或制作文本文件，将全部内容倒序后写入新文件。\n",
    "2. 使用线程池实现对50个文本文件进行单词出现频率统计并汇总结果"
   ]
  },
  {
   "cell_type": "code",
   "execution_count": 8,
   "metadata": {
    "collapsed": true
   },
   "outputs": [],
   "source": [
    "# 题目1"
   ]
  },
  {
   "cell_type": "code",
   "execution_count": 3,
   "metadata": {},
   "outputs": [
    {
     "name": "stdout",
     "output_type": "stream",
     "text": [
      "lines: ['.ecnetsisreP fo ecalp eht ekat nac dlrow eht ni gnihtoN']\n",
      "line: ;ton lliw suineG .tnelat htiw nem lufsseccusnu naht nommoc erom si gnihton ;ton lliw tnelaT\n",
      "lines: [';ton lliw suineG .tnelat htiw nem lufsseccusnu naht nommoc erom si gnihton ;ton lliw tnelaT', '.ecnetsisreP fo ecalp eht ekat nac dlrow eht ni gnihtoN']\n",
      "line: ;ton lliw noitacudE .brevorp a tsomla si suineg dedrawernu\n",
      "lines: [';ton lliw noitacudE .brevorp a tsomla si suineg dedrawernu', ';ton lliw suineG .tnelat htiw nem lufsseccusnu naht nommoc erom si gnihton ;ton lliw tnelaT', '.ecnetsisreP fo ecalp eht ekat nac dlrow eht ni gnihtoN']\n",
      "line: .stcilered detacude fo lluf si dlrow eht\n",
      "lines: ['.stcilered detacude fo lluf si dlrow eht', ';ton lliw noitacudE .brevorp a tsomla si suineg dedrawernu', ';ton lliw suineG .tnelat htiw nem lufsseccusnu naht nommoc erom si gnihton ;ton lliw tnelaT', '.ecnetsisreP fo ecalp eht ekat nac dlrow eht ni gnihtoN']\n",
      "line: .tnetopinmo era enola noitanimreted dna ecnetsisreP\n",
      "lines: ['.tnetopinmo era enola noitanimreted dna ecnetsisreP', '.stcilered detacude fo lluf si dlrow eht', ';ton lliw noitacudE .brevorp a tsomla si suineg dedrawernu', ';ton lliw suineG .tnelat htiw nem lufsseccusnu naht nommoc erom si gnihton ;ton lliw tnelaT', '.ecnetsisreP fo ecalp eht ekat nac dlrow eht ni gnihtoN']\n",
      "line: .ecar namuh eht fo smelborp eht evlos lliw syawla dna devlos sah 'nO sserP' nagols ehT\n",
      "lines: [\".ecar namuh eht fo smelborp eht evlos lliw syawla dna devlos sah 'nO sserP' nagols ehT\", '.tnetopinmo era enola noitanimreted dna ecnetsisreP', '.stcilered detacude fo lluf si dlrow eht', ';ton lliw noitacudE .brevorp a tsomla si suineg dedrawernu', ';ton lliw suineG .tnelat htiw nem lufsseccusnu naht nommoc erom si gnihton ;ton lliw tnelaT', '.ecnetsisreP fo ecalp eht ekat nac dlrow eht ni gnihtoN']\n",
      "line: \n"
     ]
    }
   ],
   "source": [
    "import os\n",
    "def reverse_file(file, newFile):\n",
    "    if not os.path.exists(file):\n",
    "        pass\n",
    "    else:\n",
    "        if os.path.exists(newFile):\n",
    "            os.remove(newFile)\n",
    "        lines = []\n",
    "        with open(file, 'r') as f:\n",
    "            line = f.readline().rstrip()[::-1]\n",
    "            while line :\n",
    "                lines.insert(0, line)\n",
    "                print('lines:', lines)\n",
    "                line = f.readline().rstrip()[::-1]\n",
    "                print(\"line:\", line)\n",
    "        with open(newFile, \"w\") as newF:\n",
    "            for line in lines:\n",
    "                newF.write(line + \"\\n\")\n",
    "                \n",
    "abs_path = os.path.abspath('./t005/persistence.txt')    \n",
    "new_abs_path = os.path.abspath('./t005/new_persistence.txt')   \n",
    "\n",
    "if os.path.exists(abs_path):\n",
    "    os.remove(abs_path)\n",
    "with open(abs_path, \"w\") as f:\n",
    "    f.write(\"Nothing in the world can take the place of Persistence. \\n\")\n",
    "    f.write(\"Talent will not; nothing is more common than unsuccessful men with talent. Genius will not; \\n\")\n",
    "    f.write(\"unrewarded genius is almost a proverb. Education will not;\\n\")\n",
    "    f.write(\"the world is full of educated derelicts.\\n\")\n",
    "    f.write(\"Persistence and determination alone are omnipotent. \\n\")\n",
    "    f.write(\"The slogan 'Press On' has solved and always will solve the problems of the human race.\\n\")\n",
    "    \n",
    "if os.path.exists(new_abs_path):\n",
    "    os.remove(new_abs_path)\n",
    "reverse_file(abs_path, new_abs_path)"
   ]
  },
  {
   "cell_type": "code",
   "execution_count": null,
   "metadata": {},
   "outputs": [],
   "source": []
  },
  {
   "cell_type": "code",
   "execution_count": null,
   "metadata": {
    "collapsed": true
   },
   "outputs": [],
   "source": []
  }
 ],
 "metadata": {
  "kernelspec": {
   "display_name": "Python 3",
   "language": "python",
   "name": "python3"
  },
  "language_info": {
   "codemirror_mode": {
    "name": "ipython",
    "version": 3
   },
   "file_extension": ".py",
   "mimetype": "text/x-python",
   "name": "python",
   "nbconvert_exporter": "python",
   "pygments_lexer": "ipython3",
   "version": "3.7.3"
  }
 },
 "nbformat": 4,
 "nbformat_minor": 2
}
